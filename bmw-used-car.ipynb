{
 "cells": [
  {
   "cell_type": "code",
   "execution_count": 1,
   "metadata": {
    "_cell_guid": "b1076dfc-b9ad-4769-8c92-a6c4dae69d19",
    "_uuid": "8f2839f25d086af736a60e9eeb907d3b93b6e0e5",
    "execution": {
     "iopub.execute_input": "2020-10-14T09:32:20.187652Z",
     "iopub.status.busy": "2020-10-14T09:32:20.186819Z",
     "iopub.status.idle": "2020-10-14T09:32:21.502645Z",
     "shell.execute_reply": "2020-10-14T09:32:21.503670Z"
    },
    "papermill": {
     "duration": 1.388317,
     "end_time": "2020-10-14T09:32:21.503931",
     "exception": false,
     "start_time": "2020-10-14T09:32:20.115614",
     "status": "completed"
    },
    "tags": []
   },
   "outputs": [
    {
     "name": "stdout",
     "output_type": "stream",
     "text": [
      "/kaggle/input/used-car-dataset-ford-and-mercedes/vw.csv\n",
      "/kaggle/input/used-car-dataset-ford-and-mercedes/bmw.csv\n",
      "/kaggle/input/used-car-dataset-ford-and-mercedes/merc.csv\n",
      "/kaggle/input/used-car-dataset-ford-and-mercedes/cclass.csv\n",
      "/kaggle/input/used-car-dataset-ford-and-mercedes/ford.csv\n",
      "/kaggle/input/used-car-dataset-ford-and-mercedes/unclean cclass.csv\n",
      "/kaggle/input/used-car-dataset-ford-and-mercedes/hyundi.csv\n",
      "/kaggle/input/used-car-dataset-ford-and-mercedes/vauxhall.csv\n",
      "/kaggle/input/used-car-dataset-ford-and-mercedes/audi.csv\n",
      "/kaggle/input/used-car-dataset-ford-and-mercedes/skoda.csv\n",
      "/kaggle/input/used-car-dataset-ford-and-mercedes/toyota.csv\n",
      "/kaggle/input/used-car-dataset-ford-and-mercedes/focus.csv\n",
      "/kaggle/input/used-car-dataset-ford-and-mercedes/unclean focus.csv\n"
     ]
    }
   ],
   "source": [
    "# This Python 3 environment comes with many helpful analytics libraries installed\n",
    "# It is defined by the kaggle/python Docker image: https://github.com/kaggle/docker-python\n",
    "# For example, here's several helpful packages to load\n",
    "\n",
    "import numpy as np # linear algebra\n",
    "import pandas as pd # data processing, CSV file I/O (e.g. pd.read_csv)\n",
    "\n",
    "import seaborn as sns\n",
    "import matplotlib.pyplot as plt\n",
    "%matplotlib inline\n",
    "import datetime\n",
    "\n",
    "import sklearn\n",
    "from sklearn.model_selection import cross_val_score\n",
    "from sklearn.linear_model import LinearRegression\n",
    "from sklearn.model_selection import train_test_split\n",
    "\n",
    "from scipy import stats\n",
    "\n",
    "# Input data files are available in the read-only \"../input/\" directory\n",
    "# For example, running this (by clicking run or pressing Shift+Enter) will list all files under the input directory\n",
    "\n",
    "import os\n",
    "for dirname, _, filenames in os.walk('/kaggle/input'):\n",
    "    for filename in filenames:\n",
    "        print(os.path.join(dirname, filename))\n",
    "\n",
    "# You can write up to 5GB to the current directory (/kaggle/working/) that gets preserved as output when you create a version using \"Save & Run All\" \n",
    "# You can also write temporary files to /kaggle/temp/, but they won't be saved outside of the current session"
   ]
  },
  {
   "cell_type": "markdown",
   "metadata": {
    "papermill": {
     "duration": 0.054257,
     "end_time": "2020-10-14T09:32:21.614533",
     "exception": false,
     "start_time": "2020-10-14T09:32:21.560276",
     "status": "completed"
    },
    "tags": []
   },
   "source": [
    "# 1. Data Preparation"
   ]
  },
  {
   "cell_type": "markdown",
   "metadata": {
    "papermill": {
     "duration": 0.054745,
     "end_time": "2020-10-14T09:32:21.724112",
     "exception": false,
     "start_time": "2020-10-14T09:32:21.669367",
     "status": "completed"
    },
    "tags": []
   },
   "source": [
    "## Load Data"
   ]
  },
  {
   "cell_type": "code",
   "execution_count": 2,
   "metadata": {
    "_cell_guid": "79c7e3d0-c299-4dcb-8224-4455121ee9b0",
    "_uuid": "d629ff2d2480ee46fbb7e2d37f6b5fab8052498a",
    "execution": {
     "iopub.execute_input": "2020-10-14T09:32:21.841096Z",
     "iopub.status.busy": "2020-10-14T09:32:21.840333Z",
     "iopub.status.idle": "2020-10-14T09:32:21.895329Z",
     "shell.execute_reply": "2020-10-14T09:32:21.894568Z"
    },
    "papermill": {
     "duration": 0.115942,
     "end_time": "2020-10-14T09:32:21.895452",
     "exception": false,
     "start_time": "2020-10-14T09:32:21.779510",
     "status": "completed"
    },
    "tags": []
   },
   "outputs": [
    {
     "name": "stdout",
     "output_type": "stream",
     "text": [
      "(10781, 9)\n"
     ]
    },
    {
     "data": {
      "text/html": [
       "<div>\n",
       "<style scoped>\n",
       "    .dataframe tbody tr th:only-of-type {\n",
       "        vertical-align: middle;\n",
       "    }\n",
       "\n",
       "    .dataframe tbody tr th {\n",
       "        vertical-align: top;\n",
       "    }\n",
       "\n",
       "    .dataframe thead th {\n",
       "        text-align: right;\n",
       "    }\n",
       "</style>\n",
       "<table border=\"1\" class=\"dataframe\">\n",
       "  <thead>\n",
       "    <tr style=\"text-align: right;\">\n",
       "      <th></th>\n",
       "      <th>model</th>\n",
       "      <th>year</th>\n",
       "      <th>price</th>\n",
       "      <th>transmission</th>\n",
       "      <th>mileage</th>\n",
       "      <th>fuelType</th>\n",
       "      <th>tax</th>\n",
       "      <th>mpg</th>\n",
       "      <th>engineSize</th>\n",
       "    </tr>\n",
       "  </thead>\n",
       "  <tbody>\n",
       "    <tr>\n",
       "      <th>0</th>\n",
       "      <td>5 Series</td>\n",
       "      <td>2014</td>\n",
       "      <td>11200</td>\n",
       "      <td>Automatic</td>\n",
       "      <td>67068</td>\n",
       "      <td>Diesel</td>\n",
       "      <td>125</td>\n",
       "      <td>57.6</td>\n",
       "      <td>2.0</td>\n",
       "    </tr>\n",
       "    <tr>\n",
       "      <th>1</th>\n",
       "      <td>6 Series</td>\n",
       "      <td>2018</td>\n",
       "      <td>27000</td>\n",
       "      <td>Automatic</td>\n",
       "      <td>14827</td>\n",
       "      <td>Petrol</td>\n",
       "      <td>145</td>\n",
       "      <td>42.8</td>\n",
       "      <td>2.0</td>\n",
       "    </tr>\n",
       "    <tr>\n",
       "      <th>2</th>\n",
       "      <td>5 Series</td>\n",
       "      <td>2016</td>\n",
       "      <td>16000</td>\n",
       "      <td>Automatic</td>\n",
       "      <td>62794</td>\n",
       "      <td>Diesel</td>\n",
       "      <td>160</td>\n",
       "      <td>51.4</td>\n",
       "      <td>3.0</td>\n",
       "    </tr>\n",
       "    <tr>\n",
       "      <th>3</th>\n",
       "      <td>1 Series</td>\n",
       "      <td>2017</td>\n",
       "      <td>12750</td>\n",
       "      <td>Automatic</td>\n",
       "      <td>26676</td>\n",
       "      <td>Diesel</td>\n",
       "      <td>145</td>\n",
       "      <td>72.4</td>\n",
       "      <td>1.5</td>\n",
       "    </tr>\n",
       "    <tr>\n",
       "      <th>4</th>\n",
       "      <td>7 Series</td>\n",
       "      <td>2014</td>\n",
       "      <td>14500</td>\n",
       "      <td>Automatic</td>\n",
       "      <td>39554</td>\n",
       "      <td>Diesel</td>\n",
       "      <td>160</td>\n",
       "      <td>50.4</td>\n",
       "      <td>3.0</td>\n",
       "    </tr>\n",
       "  </tbody>\n",
       "</table>\n",
       "</div>"
      ],
      "text/plain": [
       "       model  year  price transmission  mileage fuelType  tax   mpg  \\\n",
       "0   5 Series  2014  11200    Automatic    67068   Diesel  125  57.6   \n",
       "1   6 Series  2018  27000    Automatic    14827   Petrol  145  42.8   \n",
       "2   5 Series  2016  16000    Automatic    62794   Diesel  160  51.4   \n",
       "3   1 Series  2017  12750    Automatic    26676   Diesel  145  72.4   \n",
       "4   7 Series  2014  14500    Automatic    39554   Diesel  160  50.4   \n",
       "\n",
       "   engineSize  \n",
       "0         2.0  \n",
       "1         2.0  \n",
       "2         3.0  \n",
       "3         1.5  \n",
       "4         3.0  "
      ]
     },
     "execution_count": 2,
     "metadata": {},
     "output_type": "execute_result"
    }
   ],
   "source": [
    "df = pd.read_csv('../input/used-car-dataset-ford-and-mercedes/bmw.csv')\n",
    "print(df.shape)\n",
    "df.head()"
   ]
  },
  {
   "cell_type": "code",
   "execution_count": 3,
   "metadata": {
    "execution": {
     "iopub.execute_input": "2020-10-14T09:32:22.013383Z",
     "iopub.status.busy": "2020-10-14T09:32:22.012370Z",
     "iopub.status.idle": "2020-10-14T09:32:22.015505Z",
     "shell.execute_reply": "2020-10-14T09:32:22.014853Z"
    },
    "papermill": {
     "duration": 0.063613,
     "end_time": "2020-10-14T09:32:22.015647",
     "exception": false,
     "start_time": "2020-10-14T09:32:21.952034",
     "status": "completed"
    },
    "tags": []
   },
   "outputs": [],
   "source": [
    "#pd.to_datetime('today').year - df.year"
   ]
  },
  {
   "cell_type": "markdown",
   "metadata": {
    "papermill": {
     "duration": 0.057296,
     "end_time": "2020-10-14T09:32:22.131103",
     "exception": false,
     "start_time": "2020-10-14T09:32:22.073807",
     "status": "completed"
    },
    "tags": []
   },
   "source": [
    "## Create new column \"age\""
   ]
  },
  {
   "cell_type": "code",
   "execution_count": 4,
   "metadata": {
    "execution": {
     "iopub.execute_input": "2020-10-14T09:32:22.252445Z",
     "iopub.status.busy": "2020-10-14T09:32:22.251685Z",
     "iopub.status.idle": "2020-10-14T09:32:22.278326Z",
     "shell.execute_reply": "2020-10-14T09:32:22.277622Z"
    },
    "papermill": {
     "duration": 0.091326,
     "end_time": "2020-10-14T09:32:22.278454",
     "exception": false,
     "start_time": "2020-10-14T09:32:22.187128",
     "status": "completed"
    },
    "tags": []
   },
   "outputs": [],
   "source": [
    "now = datetime.datetime.now().year\n",
    "df['age'] = now - df['year']"
   ]
  },
  {
   "cell_type": "markdown",
   "metadata": {
    "papermill": {
     "duration": 0.055881,
     "end_time": "2020-10-14T09:32:22.391096",
     "exception": false,
     "start_time": "2020-10-14T09:32:22.335215",
     "status": "completed"
    },
    "tags": []
   },
   "source": [
    "## drop column to avoid Multicollinearity"
   ]
  },
  {
   "cell_type": "code",
   "execution_count": 5,
   "metadata": {
    "execution": {
     "iopub.execute_input": "2020-10-14T09:32:22.512712Z",
     "iopub.status.busy": "2020-10-14T09:32:22.511912Z",
     "iopub.status.idle": "2020-10-14T09:32:22.532502Z",
     "shell.execute_reply": "2020-10-14T09:32:22.531773Z"
    },
    "papermill": {
     "duration": 0.084875,
     "end_time": "2020-10-14T09:32:22.532649",
     "exception": false,
     "start_time": "2020-10-14T09:32:22.447774",
     "status": "completed"
    },
    "tags": []
   },
   "outputs": [
    {
     "data": {
      "text/html": [
       "<div>\n",
       "<style scoped>\n",
       "    .dataframe tbody tr th:only-of-type {\n",
       "        vertical-align: middle;\n",
       "    }\n",
       "\n",
       "    .dataframe tbody tr th {\n",
       "        vertical-align: top;\n",
       "    }\n",
       "\n",
       "    .dataframe thead th {\n",
       "        text-align: right;\n",
       "    }\n",
       "</style>\n",
       "<table border=\"1\" class=\"dataframe\">\n",
       "  <thead>\n",
       "    <tr style=\"text-align: right;\">\n",
       "      <th></th>\n",
       "      <th>model</th>\n",
       "      <th>price</th>\n",
       "      <th>transmission</th>\n",
       "      <th>mileage</th>\n",
       "      <th>fuelType</th>\n",
       "      <th>tax</th>\n",
       "      <th>mpg</th>\n",
       "      <th>engineSize</th>\n",
       "      <th>age</th>\n",
       "    </tr>\n",
       "  </thead>\n",
       "  <tbody>\n",
       "    <tr>\n",
       "      <th>0</th>\n",
       "      <td>5 Series</td>\n",
       "      <td>11200</td>\n",
       "      <td>Automatic</td>\n",
       "      <td>67068</td>\n",
       "      <td>Diesel</td>\n",
       "      <td>125</td>\n",
       "      <td>57.6</td>\n",
       "      <td>2.0</td>\n",
       "      <td>6</td>\n",
       "    </tr>\n",
       "    <tr>\n",
       "      <th>1</th>\n",
       "      <td>6 Series</td>\n",
       "      <td>27000</td>\n",
       "      <td>Automatic</td>\n",
       "      <td>14827</td>\n",
       "      <td>Petrol</td>\n",
       "      <td>145</td>\n",
       "      <td>42.8</td>\n",
       "      <td>2.0</td>\n",
       "      <td>2</td>\n",
       "    </tr>\n",
       "    <tr>\n",
       "      <th>2</th>\n",
       "      <td>5 Series</td>\n",
       "      <td>16000</td>\n",
       "      <td>Automatic</td>\n",
       "      <td>62794</td>\n",
       "      <td>Diesel</td>\n",
       "      <td>160</td>\n",
       "      <td>51.4</td>\n",
       "      <td>3.0</td>\n",
       "      <td>4</td>\n",
       "    </tr>\n",
       "    <tr>\n",
       "      <th>3</th>\n",
       "      <td>1 Series</td>\n",
       "      <td>12750</td>\n",
       "      <td>Automatic</td>\n",
       "      <td>26676</td>\n",
       "      <td>Diesel</td>\n",
       "      <td>145</td>\n",
       "      <td>72.4</td>\n",
       "      <td>1.5</td>\n",
       "      <td>3</td>\n",
       "    </tr>\n",
       "    <tr>\n",
       "      <th>4</th>\n",
       "      <td>7 Series</td>\n",
       "      <td>14500</td>\n",
       "      <td>Automatic</td>\n",
       "      <td>39554</td>\n",
       "      <td>Diesel</td>\n",
       "      <td>160</td>\n",
       "      <td>50.4</td>\n",
       "      <td>3.0</td>\n",
       "      <td>6</td>\n",
       "    </tr>\n",
       "  </tbody>\n",
       "</table>\n",
       "</div>"
      ],
      "text/plain": [
       "       model  price transmission  mileage fuelType  tax   mpg  engineSize  age\n",
       "0   5 Series  11200    Automatic    67068   Diesel  125  57.6         2.0    6\n",
       "1   6 Series  27000    Automatic    14827   Petrol  145  42.8         2.0    2\n",
       "2   5 Series  16000    Automatic    62794   Diesel  160  51.4         3.0    4\n",
       "3   1 Series  12750    Automatic    26676   Diesel  145  72.4         1.5    3\n",
       "4   7 Series  14500    Automatic    39554   Diesel  160  50.4         3.0    6"
      ]
     },
     "execution_count": 5,
     "metadata": {},
     "output_type": "execute_result"
    }
   ],
   "source": [
    "df.drop(columns = ['year'], inplace = True)\n",
    "df.head()"
   ]
  },
  {
   "cell_type": "raw",
   "metadata": {
    "papermill": {
     "duration": 0.056864,
     "end_time": "2020-10-14T09:32:22.646551",
     "exception": false,
     "start_time": "2020-10-14T09:32:22.589687",
     "status": "completed"
    },
    "tags": []
   },
   "source": [
    "#Normalize lebel data price by using log scale"
   ]
  },
  {
   "cell_type": "code",
   "execution_count": 6,
   "metadata": {
    "execution": {
     "iopub.execute_input": "2020-10-14T09:32:22.765748Z",
     "iopub.status.busy": "2020-10-14T09:32:22.764716Z",
     "iopub.status.idle": "2020-10-14T09:32:22.767997Z",
     "shell.execute_reply": "2020-10-14T09:32:22.767262Z"
    },
    "papermill": {
     "duration": 0.064733,
     "end_time": "2020-10-14T09:32:22.768121",
     "exception": false,
     "start_time": "2020-10-14T09:32:22.703388",
     "status": "completed"
    },
    "tags": []
   },
   "outputs": [],
   "source": [
    "#df['target_price'] = np.log(df['price'])\n",
    "#df.head()"
   ]
  },
  {
   "cell_type": "markdown",
   "metadata": {
    "papermill": {
     "duration": 0.056633,
     "end_time": "2020-10-14T09:32:22.881815",
     "exception": false,
     "start_time": "2020-10-14T09:32:22.825182",
     "status": "completed"
    },
    "tags": []
   },
   "source": [
    "# 2. Exporatory Data Analysis"
   ]
  },
  {
   "cell_type": "code",
   "execution_count": 7,
   "metadata": {
    "execution": {
     "iopub.execute_input": "2020-10-14T09:32:23.006566Z",
     "iopub.status.busy": "2020-10-14T09:32:23.005471Z",
     "iopub.status.idle": "2020-10-14T09:32:23.018163Z",
     "shell.execute_reply": "2020-10-14T09:32:23.017308Z"
    },
    "papermill": {
     "duration": 0.079334,
     "end_time": "2020-10-14T09:32:23.018334",
     "exception": false,
     "start_time": "2020-10-14T09:32:22.939000",
     "status": "completed"
    },
    "tags": []
   },
   "outputs": [
    {
     "name": "stdout",
     "output_type": "stream",
     "text": [
      "<class 'pandas.core.frame.DataFrame'>\n",
      "RangeIndex: 10781 entries, 0 to 10780\n",
      "Data columns (total 9 columns):\n",
      " #   Column        Non-Null Count  Dtype  \n",
      "---  ------        --------------  -----  \n",
      " 0   model         10781 non-null  object \n",
      " 1   price         10781 non-null  int64  \n",
      " 2   transmission  10781 non-null  object \n",
      " 3   mileage       10781 non-null  int64  \n",
      " 4   fuelType      10781 non-null  object \n",
      " 5   tax           10781 non-null  int64  \n",
      " 6   mpg           10781 non-null  float64\n",
      " 7   engineSize    10781 non-null  float64\n",
      " 8   age           10781 non-null  int64  \n",
      "dtypes: float64(2), int64(4), object(3)\n",
      "memory usage: 758.2+ KB\n"
     ]
    }
   ],
   "source": [
    "df.info()"
   ]
  },
  {
   "cell_type": "markdown",
   "metadata": {
    "papermill": {
     "duration": 0.066705,
     "end_time": "2020-10-14T09:32:23.153328",
     "exception": false,
     "start_time": "2020-10-14T09:32:23.086623",
     "status": "completed"
    },
    "tags": []
   },
   "source": [
    "**No Missing Value**"
   ]
  },
  {
   "cell_type": "code",
   "execution_count": 8,
   "metadata": {
    "execution": {
     "iopub.execute_input": "2020-10-14T09:32:23.289910Z",
     "iopub.status.busy": "2020-10-14T09:32:23.287158Z",
     "iopub.status.idle": "2020-10-14T09:32:23.293880Z",
     "shell.execute_reply": "2020-10-14T09:32:23.294415Z"
    },
    "papermill": {
     "duration": 0.076317,
     "end_time": "2020-10-14T09:32:23.294604",
     "exception": false,
     "start_time": "2020-10-14T09:32:23.218287",
     "status": "completed"
    },
    "tags": []
   },
   "outputs": [
    {
     "data": {
      "text/plain": [
       "model           False\n",
       "price           False\n",
       "transmission    False\n",
       "mileage         False\n",
       "fuelType        False\n",
       "tax             False\n",
       "mpg             False\n",
       "engineSize      False\n",
       "age             False\n",
       "dtype: bool"
      ]
     },
     "execution_count": 8,
     "metadata": {},
     "output_type": "execute_result"
    }
   ],
   "source": [
    "df.isnull().any()"
   ]
  },
  {
   "cell_type": "code",
   "execution_count": 9,
   "metadata": {
    "execution": {
     "iopub.execute_input": "2020-10-14T09:32:23.420160Z",
     "iopub.status.busy": "2020-10-14T09:32:23.419187Z",
     "iopub.status.idle": "2020-10-14T09:32:23.432694Z",
     "shell.execute_reply": "2020-10-14T09:32:23.431910Z"
    },
    "papermill": {
     "duration": 0.078401,
     "end_time": "2020-10-14T09:32:23.432831",
     "exception": false,
     "start_time": "2020-10-14T09:32:23.354430",
     "status": "completed"
    },
    "tags": []
   },
   "outputs": [
    {
     "name": "stdout",
     "output_type": "stream",
     "text": [
      "model :  24  lebels\n",
      "price :  3777  lebels\n",
      "transmission :  3  lebels\n",
      "mileage :  8086  lebels\n",
      "fuelType :  5  lebels\n",
      "tax :  38  lebels\n",
      "mpg :  102  lebels\n",
      "engineSize :  17  lebels\n",
      "age :  25  lebels\n"
     ]
    }
   ],
   "source": [
    "for col in df.columns[0:]:\n",
    "    print(col, ': ', len(df[col].unique()), ' lebels')"
   ]
  },
  {
   "cell_type": "code",
   "execution_count": 10,
   "metadata": {
    "execution": {
     "iopub.execute_input": "2020-10-14T09:32:23.556384Z",
     "iopub.status.busy": "2020-10-14T09:32:23.555661Z",
     "iopub.status.idle": "2020-10-14T09:32:23.558437Z",
     "shell.execute_reply": "2020-10-14T09:32:23.559009Z"
    },
    "papermill": {
     "duration": 0.067262,
     "end_time": "2020-10-14T09:32:23.559187",
     "exception": false,
     "start_time": "2020-10-14T09:32:23.491925",
     "status": "completed"
    },
    "tags": []
   },
   "outputs": [],
   "source": [
    "#df.select_dtypes(exclude=['object'])"
   ]
  },
  {
   "cell_type": "markdown",
   "metadata": {
    "papermill": {
     "duration": 0.05862,
     "end_time": "2020-10-14T09:32:23.677093",
     "exception": false,
     "start_time": "2020-10-14T09:32:23.618473",
     "status": "completed"
    },
    "tags": []
   },
   "source": [
    "# **Category features**"
   ]
  },
  {
   "cell_type": "code",
   "execution_count": 11,
   "metadata": {
    "execution": {
     "iopub.execute_input": "2020-10-14T09:32:23.816191Z",
     "iopub.status.busy": "2020-10-14T09:32:23.815091Z",
     "iopub.status.idle": "2020-10-14T09:32:23.819187Z",
     "shell.execute_reply": "2020-10-14T09:32:23.819808Z"
    },
    "papermill": {
     "duration": 0.083961,
     "end_time": "2020-10-14T09:32:23.819963",
     "exception": false,
     "start_time": "2020-10-14T09:32:23.736002",
     "status": "completed"
    },
    "tags": []
   },
   "outputs": [
    {
     "data": {
      "text/html": [
       "<div>\n",
       "<style scoped>\n",
       "    .dataframe tbody tr th:only-of-type {\n",
       "        vertical-align: middle;\n",
       "    }\n",
       "\n",
       "    .dataframe tbody tr th {\n",
       "        vertical-align: top;\n",
       "    }\n",
       "\n",
       "    .dataframe thead th {\n",
       "        text-align: right;\n",
       "    }\n",
       "</style>\n",
       "<table border=\"1\" class=\"dataframe\">\n",
       "  <thead>\n",
       "    <tr style=\"text-align: right;\">\n",
       "      <th></th>\n",
       "      <th>model</th>\n",
       "      <th>transmission</th>\n",
       "      <th>fuelType</th>\n",
       "    </tr>\n",
       "  </thead>\n",
       "  <tbody>\n",
       "    <tr>\n",
       "      <th>5508</th>\n",
       "      <td>M4</td>\n",
       "      <td>Automatic</td>\n",
       "      <td>Petrol</td>\n",
       "    </tr>\n",
       "    <tr>\n",
       "      <th>3429</th>\n",
       "      <td>3 Series</td>\n",
       "      <td>Semi-Auto</td>\n",
       "      <td>Petrol</td>\n",
       "    </tr>\n",
       "    <tr>\n",
       "      <th>8803</th>\n",
       "      <td>3 Series</td>\n",
       "      <td>Automatic</td>\n",
       "      <td>Petrol</td>\n",
       "    </tr>\n",
       "    <tr>\n",
       "      <th>2016</th>\n",
       "      <td>4 Series</td>\n",
       "      <td>Semi-Auto</td>\n",
       "      <td>Petrol</td>\n",
       "    </tr>\n",
       "    <tr>\n",
       "      <th>9858</th>\n",
       "      <td>X5</td>\n",
       "      <td>Automatic</td>\n",
       "      <td>Diesel</td>\n",
       "    </tr>\n",
       "    <tr>\n",
       "      <th>7534</th>\n",
       "      <td>3 Series</td>\n",
       "      <td>Automatic</td>\n",
       "      <td>Diesel</td>\n",
       "    </tr>\n",
       "    <tr>\n",
       "      <th>1408</th>\n",
       "      <td>4 Series</td>\n",
       "      <td>Automatic</td>\n",
       "      <td>Diesel</td>\n",
       "    </tr>\n",
       "    <tr>\n",
       "      <th>5023</th>\n",
       "      <td>4 Series</td>\n",
       "      <td>Automatic</td>\n",
       "      <td>Diesel</td>\n",
       "    </tr>\n",
       "    <tr>\n",
       "      <th>1889</th>\n",
       "      <td>3 Series</td>\n",
       "      <td>Semi-Auto</td>\n",
       "      <td>Petrol</td>\n",
       "    </tr>\n",
       "    <tr>\n",
       "      <th>1114</th>\n",
       "      <td>X1</td>\n",
       "      <td>Semi-Auto</td>\n",
       "      <td>Diesel</td>\n",
       "    </tr>\n",
       "  </tbody>\n",
       "</table>\n",
       "</div>"
      ],
      "text/plain": [
       "          model transmission fuelType\n",
       "5508         M4    Automatic   Petrol\n",
       "3429   3 Series    Semi-Auto   Petrol\n",
       "8803   3 Series    Automatic   Petrol\n",
       "2016   4 Series    Semi-Auto   Petrol\n",
       "9858         X5    Automatic   Diesel\n",
       "7534   3 Series    Automatic   Diesel\n",
       "1408   4 Series    Automatic   Diesel\n",
       "5023   4 Series    Automatic   Diesel\n",
       "1889   3 Series    Semi-Auto   Petrol\n",
       "1114         X1    Semi-Auto   Diesel"
      ]
     },
     "execution_count": 11,
     "metadata": {},
     "output_type": "execute_result"
    }
   ],
   "source": [
    "#df_cate = df.select_dtypes(include=['object']).columns.values.tolist()\n",
    "df_cate = df.select_dtypes(include=['object'])\n",
    "df_cate.sample(10)"
   ]
  },
  {
   "cell_type": "code",
   "execution_count": 12,
   "metadata": {
    "execution": {
     "iopub.execute_input": "2020-10-14T09:32:23.945435Z",
     "iopub.status.busy": "2020-10-14T09:32:23.944390Z",
     "iopub.status.idle": "2020-10-14T09:32:23.956561Z",
     "shell.execute_reply": "2020-10-14T09:32:23.955827Z"
    },
    "papermill": {
     "duration": 0.077059,
     "end_time": "2020-10-14T09:32:23.956714",
     "exception": false,
     "start_time": "2020-10-14T09:32:23.879655",
     "status": "completed"
    },
    "tags": []
   },
   "outputs": [
    {
     "data": {
      "text/plain": [
       "model           24\n",
       "transmission     3\n",
       "fuelType         5\n",
       "dtype: int64"
      ]
     },
     "execution_count": 12,
     "metadata": {},
     "output_type": "execute_result"
    }
   ],
   "source": [
    "df_cate.apply(lambda x: x.nunique(), axis=0)"
   ]
  },
  {
   "cell_type": "markdown",
   "metadata": {
    "papermill": {
     "duration": 0.060313,
     "end_time": "2020-10-14T09:32:24.077372",
     "exception": false,
     "start_time": "2020-10-14T09:32:24.017059",
     "status": "completed"
    },
    "tags": []
   },
   "source": [
    "# **Numerical features**"
   ]
  },
  {
   "cell_type": "code",
   "execution_count": 13,
   "metadata": {
    "execution": {
     "iopub.execute_input": "2020-10-14T09:32:24.208778Z",
     "iopub.status.busy": "2020-10-14T09:32:24.207976Z",
     "iopub.status.idle": "2020-10-14T09:32:24.243756Z",
     "shell.execute_reply": "2020-10-14T09:32:24.244279Z"
    },
    "papermill": {
     "duration": 0.10555,
     "end_time": "2020-10-14T09:32:24.244440",
     "exception": false,
     "start_time": "2020-10-14T09:32:24.138890",
     "status": "completed"
    },
    "tags": []
   },
   "outputs": [
    {
     "data": {
      "text/html": [
       "<div>\n",
       "<style scoped>\n",
       "    .dataframe tbody tr th:only-of-type {\n",
       "        vertical-align: middle;\n",
       "    }\n",
       "\n",
       "    .dataframe tbody tr th {\n",
       "        vertical-align: top;\n",
       "    }\n",
       "\n",
       "    .dataframe thead th {\n",
       "        text-align: right;\n",
       "    }\n",
       "</style>\n",
       "<table border=\"1\" class=\"dataframe\">\n",
       "  <thead>\n",
       "    <tr style=\"text-align: right;\">\n",
       "      <th></th>\n",
       "      <th>count</th>\n",
       "      <th>mean</th>\n",
       "      <th>std</th>\n",
       "      <th>min</th>\n",
       "      <th>25%</th>\n",
       "      <th>50%</th>\n",
       "      <th>75%</th>\n",
       "      <th>max</th>\n",
       "    </tr>\n",
       "  </thead>\n",
       "  <tbody>\n",
       "    <tr>\n",
       "      <th>price</th>\n",
       "      <td>10781.0</td>\n",
       "      <td>22733.408867</td>\n",
       "      <td>11415.528189</td>\n",
       "      <td>1200.0</td>\n",
       "      <td>14950.0</td>\n",
       "      <td>20462.0</td>\n",
       "      <td>27940.0</td>\n",
       "      <td>123456.0</td>\n",
       "    </tr>\n",
       "    <tr>\n",
       "      <th>mileage</th>\n",
       "      <td>10781.0</td>\n",
       "      <td>25496.986550</td>\n",
       "      <td>25143.192559</td>\n",
       "      <td>1.0</td>\n",
       "      <td>5529.0</td>\n",
       "      <td>18347.0</td>\n",
       "      <td>38206.0</td>\n",
       "      <td>214000.0</td>\n",
       "    </tr>\n",
       "    <tr>\n",
       "      <th>tax</th>\n",
       "      <td>10781.0</td>\n",
       "      <td>131.702068</td>\n",
       "      <td>61.510755</td>\n",
       "      <td>0.0</td>\n",
       "      <td>135.0</td>\n",
       "      <td>145.0</td>\n",
       "      <td>145.0</td>\n",
       "      <td>580.0</td>\n",
       "    </tr>\n",
       "    <tr>\n",
       "      <th>mpg</th>\n",
       "      <td>10781.0</td>\n",
       "      <td>56.399035</td>\n",
       "      <td>31.336958</td>\n",
       "      <td>5.5</td>\n",
       "      <td>45.6</td>\n",
       "      <td>53.3</td>\n",
       "      <td>62.8</td>\n",
       "      <td>470.8</td>\n",
       "    </tr>\n",
       "    <tr>\n",
       "      <th>engineSize</th>\n",
       "      <td>10781.0</td>\n",
       "      <td>2.167767</td>\n",
       "      <td>0.552054</td>\n",
       "      <td>0.0</td>\n",
       "      <td>2.0</td>\n",
       "      <td>2.0</td>\n",
       "      <td>2.0</td>\n",
       "      <td>6.6</td>\n",
       "    </tr>\n",
       "    <tr>\n",
       "      <th>age</th>\n",
       "      <td>10781.0</td>\n",
       "      <td>2.921065</td>\n",
       "      <td>2.349038</td>\n",
       "      <td>0.0</td>\n",
       "      <td>1.0</td>\n",
       "      <td>3.0</td>\n",
       "      <td>4.0</td>\n",
       "      <td>24.0</td>\n",
       "    </tr>\n",
       "  </tbody>\n",
       "</table>\n",
       "</div>"
      ],
      "text/plain": [
       "              count          mean           std     min      25%      50%  \\\n",
       "price       10781.0  22733.408867  11415.528189  1200.0  14950.0  20462.0   \n",
       "mileage     10781.0  25496.986550  25143.192559     1.0   5529.0  18347.0   \n",
       "tax         10781.0    131.702068     61.510755     0.0    135.0    145.0   \n",
       "mpg         10781.0     56.399035     31.336958     5.5     45.6     53.3   \n",
       "engineSize  10781.0      2.167767      0.552054     0.0      2.0      2.0   \n",
       "age         10781.0      2.921065      2.349038     0.0      1.0      3.0   \n",
       "\n",
       "                75%       max  \n",
       "price       27940.0  123456.0  \n",
       "mileage     38206.0  214000.0  \n",
       "tax           145.0     580.0  \n",
       "mpg            62.8     470.8  \n",
       "engineSize      2.0       6.6  \n",
       "age             4.0      24.0  "
      ]
     },
     "execution_count": 13,
     "metadata": {},
     "output_type": "execute_result"
    }
   ],
   "source": [
    "df.describe().T"
   ]
  },
  {
   "cell_type": "code",
   "execution_count": 14,
   "metadata": {
    "execution": {
     "iopub.execute_input": "2020-10-14T09:32:24.372733Z",
     "iopub.status.busy": "2020-10-14T09:32:24.371968Z",
     "iopub.status.idle": "2020-10-14T09:32:24.374829Z",
     "shell.execute_reply": "2020-10-14T09:32:24.374092Z"
    },
    "papermill": {
     "duration": 0.068882,
     "end_time": "2020-10-14T09:32:24.374954",
     "exception": false,
     "start_time": "2020-10-14T09:32:24.306072",
     "status": "completed"
    },
    "tags": []
   },
   "outputs": [],
   "source": [
    "#df_dummies.describe().T"
   ]
  },
  {
   "cell_type": "code",
   "execution_count": 15,
   "metadata": {
    "execution": {
     "iopub.execute_input": "2020-10-14T09:32:24.503361Z",
     "iopub.status.busy": "2020-10-14T09:32:24.502570Z",
     "iopub.status.idle": "2020-10-14T09:32:24.505750Z",
     "shell.execute_reply": "2020-10-14T09:32:24.505108Z"
    },
    "papermill": {
     "duration": 0.069572,
     "end_time": "2020-10-14T09:32:24.505879",
     "exception": false,
     "start_time": "2020-10-14T09:32:24.436307",
     "status": "completed"
    },
    "tags": []
   },
   "outputs": [],
   "source": [
    "#df[(df['engineSize']==0) & (df['tax']==0)]"
   ]
  },
  {
   "cell_type": "code",
   "execution_count": 16,
   "metadata": {
    "execution": {
     "iopub.execute_input": "2020-10-14T09:32:24.635761Z",
     "iopub.status.busy": "2020-10-14T09:32:24.634694Z",
     "iopub.status.idle": "2020-10-14T09:32:24.638181Z",
     "shell.execute_reply": "2020-10-14T09:32:24.637507Z"
    },
    "papermill": {
     "duration": 0.069846,
     "end_time": "2020-10-14T09:32:24.638335",
     "exception": false,
     "start_time": "2020-10-14T09:32:24.568489",
     "status": "completed"
    },
    "tags": []
   },
   "outputs": [],
   "source": [
    "#pd.crosstab(df.model,df.engineSize, margins= True)"
   ]
  },
  {
   "cell_type": "code",
   "execution_count": 17,
   "metadata": {
    "execution": {
     "iopub.execute_input": "2020-10-14T09:32:24.768528Z",
     "iopub.status.busy": "2020-10-14T09:32:24.767424Z",
     "iopub.status.idle": "2020-10-14T09:32:24.770959Z",
     "shell.execute_reply": "2020-10-14T09:32:24.770219Z"
    },
    "papermill": {
     "duration": 0.070064,
     "end_time": "2020-10-14T09:32:24.771089",
     "exception": false,
     "start_time": "2020-10-14T09:32:24.701025",
     "status": "completed"
    },
    "tags": []
   },
   "outputs": [],
   "source": [
    "#df.notnull().sum()"
   ]
  },
  {
   "cell_type": "markdown",
   "metadata": {
    "papermill": {
     "duration": 0.061433,
     "end_time": "2020-10-14T09:32:24.894468",
     "exception": false,
     "start_time": "2020-10-14T09:32:24.833035",
     "status": "completed"
    },
    "tags": []
   },
   "source": [
    "# Check correlation"
   ]
  },
  {
   "cell_type": "code",
   "execution_count": 18,
   "metadata": {
    "execution": {
     "iopub.execute_input": "2020-10-14T09:32:25.026927Z",
     "iopub.status.busy": "2020-10-14T09:32:25.026038Z",
     "iopub.status.idle": "2020-10-14T09:32:25.399401Z",
     "shell.execute_reply": "2020-10-14T09:32:25.398377Z"
    },
    "papermill": {
     "duration": 0.443029,
     "end_time": "2020-10-14T09:32:25.399570",
     "exception": false,
     "start_time": "2020-10-14T09:32:24.956541",
     "status": "completed"
    },
    "tags": []
   },
   "outputs": [
    {
     "data": {
      "image/png": "[encoded data removed]",
      "text/plain": [
       "<Figure size 1080x720 with 2 Axes>"
      ]
     },
     "metadata": {
      "needs_background": "light"
     },
     "output_type": "display_data"
    }
   ],
   "source": [
    "plt.subplots(figsize=(15,10))\n",
    "corr = df.corr()\n",
    "ax = sns.heatmap(\n",
    "    corr, \n",
    "    vmin=-1, vmax=1, center=0,\n",
    "    cmap=sns.diverging_palette(20, 220, n=200),\n",
    "    square=True\n",
    ")\n",
    "ax.set_xticklabels(\n",
    "    ax.get_xticklabels(),\n",
    "    rotation=45,\n",
    "    horizontalalignment='right'\n",
    ");"
   ]
  },
  {
   "cell_type": "markdown",
   "metadata": {
    "papermill": {
     "duration": 0.06937,
     "end_time": "2020-10-14T09:32:25.559274",
     "exception": false,
     "start_time": "2020-10-14T09:32:25.489904",
     "status": "completed"
    },
    "tags": []
   },
   "source": [
    "## from correlation we would focus to age, engine size and mileage. "
   ]
  },
  {
   "cell_type": "code",
   "execution_count": 19,
   "metadata": {
    "execution": {
     "iopub.execute_input": "2020-10-14T09:32:25.693824Z",
     "iopub.status.busy": "2020-10-14T09:32:25.692995Z",
     "iopub.status.idle": "2020-10-14T09:32:25.696667Z",
     "shell.execute_reply": "2020-10-14T09:32:25.696027Z"
    },
    "papermill": {
     "duration": 0.072772,
     "end_time": "2020-10-14T09:32:25.696798",
     "exception": false,
     "start_time": "2020-10-14T09:32:25.624026",
     "status": "completed"
    },
    "tags": []
   },
   "outputs": [],
   "source": [
    "#sns.pairplot(df);"
   ]
  },
  {
   "cell_type": "code",
   "execution_count": 20,
   "metadata": {
    "execution": {
     "iopub.execute_input": "2020-10-14T09:32:25.829551Z",
     "iopub.status.busy": "2020-10-14T09:32:25.828705Z",
     "iopub.status.idle": "2020-10-14T09:32:25.832258Z",
     "shell.execute_reply": "2020-10-14T09:32:25.831450Z"
    },
    "papermill": {
     "duration": 0.0715,
     "end_time": "2020-10-14T09:32:25.832382",
     "exception": false,
     "start_time": "2020-10-14T09:32:25.760882",
     "status": "completed"
    },
    "tags": []
   },
   "outputs": [],
   "source": [
    "#fig, ax = plt.subplots(figsize=(16,6))\n",
    "#sns.boxplot(ax=ax, x=\"fuelType\", y=\"price\", hue=\"transmission\", data=df);\n",
    "#sns.boxplot(ax=ax, x=\"transmission\", y=\"price\", hue=\"fuelType\", data=df);"
   ]
  },
  {
   "cell_type": "markdown",
   "metadata": {
    "papermill": {
     "duration": 0.063181,
     "end_time": "2020-10-14T09:32:25.959211",
     "exception": false,
     "start_time": "2020-10-14T09:32:25.896030",
     "status": "completed"
    },
    "tags": []
   },
   "source": [
    "## Consider to object variable which is model, transimission and fuelType"
   ]
  },
  {
   "cell_type": "code",
   "execution_count": 21,
   "metadata": {
    "execution": {
     "iopub.execute_input": "2020-10-14T09:32:26.097623Z",
     "iopub.status.busy": "2020-10-14T09:32:26.096721Z",
     "iopub.status.idle": "2020-10-14T09:32:27.961889Z",
     "shell.execute_reply": "2020-10-14T09:32:27.961293Z"
    },
    "papermill": {
     "duration": 1.939314,
     "end_time": "2020-10-14T09:32:27.962012",
     "exception": false,
     "start_time": "2020-10-14T09:32:26.022698",
     "status": "completed"
    },
    "tags": []
   },
   "outputs": [
    {
     "name": "stderr",
     "output_type": "stream",
     "text": [
      "/opt/conda/lib/python3.7/site-packages/seaborn/categorical.py:3720: UserWarning: catplot is a figure-level function and does not accept target axes. You may wish to try boxplot\n",
      "  warnings.warn(msg, UserWarning)\n",
      "/opt/conda/lib/python3.7/site-packages/seaborn/categorical.py:3720: UserWarning: catplot is a figure-level function and does not accept target axes. You may wish to try boxplot\n",
      "  warnings.warn(msg, UserWarning)\n",
      "/opt/conda/lib/python3.7/site-packages/seaborn/categorical.py:3720: UserWarning: catplot is a figure-level function and does not accept target axes. You may wish to try boxplot\n",
      "  warnings.warn(msg, UserWarning)\n"
     ]
    },
    {
     "data": {
      "image/png": "[encoded data removed]",
      "text/plain": [
       "<Figure size 1080x360 with 1 Axes>"
      ]
     },
     "metadata": {
      "needs_background": "light"
     },
     "output_type": "display_data"
    },
    {
     "data": {
      "image/png": "[encoded data removed]",
      "text/plain": [
       "<Figure size 1080x360 with 1 Axes>"
      ]
     },
     "metadata": {
      "needs_background": "light"
     },
     "output_type": "display_data"
    },
    {
     "data": {
      "image/png": "[encoded data removed]",
      "text/plain": [
       "<Figure size 1080x360 with 1 Axes>"
      ]
     },
     "metadata": {
      "needs_background": "light"
     },
     "output_type": "display_data"
    }
   ],
   "source": [
    "#fig, ax = plt.subplots(figsize=(16,6))\n",
    "#plt.figure(figsize=(16,6))\n",
    "g1 = sns.catplot(ax=ax, x=\"fuelType\", y=\"price\", hue=\"transmission\", kind=\"box\", data=df);\n",
    "g1.fig.set_figwidth(15);\n",
    "g1.fig.set_figheight(5);\n",
    "g2 = sns.catplot(ax=ax, x=\"transmission\", y=\"price\", hue=\"fuelType\", kind=\"box\", data=df);\n",
    "g2.fig.set_figwidth(15);\n",
    "g2.fig.set_figheight(5);\n",
    "g3 = sns.catplot(ax=ax, x=\"model\", y=\"price\", kind=\"box\", data=df);\n",
    "g3.fig.set_figwidth(15);\n",
    "g3.fig.set_figheight(5);"
   ]
  },
  {
   "cell_type": "markdown",
   "metadata": {
    "papermill": {
     "duration": 0.068093,
     "end_time": "2020-10-14T09:32:28.102234",
     "exception": false,
     "start_time": "2020-10-14T09:32:28.034141",
     "status": "completed"
    },
    "tags": []
   },
   "source": [
    "## Manual and Diesel trend to have lower price"
   ]
  },
  {
   "cell_type": "markdown",
   "metadata": {
    "papermill": {
     "duration": 0.067359,
     "end_time": "2020-10-14T09:32:28.238369",
     "exception": false,
     "start_time": "2020-10-14T09:32:28.171010",
     "status": "completed"
    },
    "tags": []
   },
   "source": [
    "# **Select price range for model**"
   ]
  },
  {
   "cell_type": "code",
   "execution_count": 22,
   "metadata": {
    "execution": {
     "iopub.execute_input": "2020-10-14T09:32:28.387546Z",
     "iopub.status.busy": "2020-10-14T09:32:28.382442Z",
     "iopub.status.idle": "2020-10-14T09:32:28.763125Z",
     "shell.execute_reply": "2020-10-14T09:32:28.762424Z"
    },
    "papermill": {
     "duration": 0.457092,
     "end_time": "2020-10-14T09:32:28.763248",
     "exception": false,
     "start_time": "2020-10-14T09:32:28.306156",
     "status": "completed"
    },
    "tags": []
   },
   "outputs": [
    {
     "data": {
      "image/png": "[encoded data removed]",
      "text/plain": [
       "<Figure size 720x360 with 1 Axes>"
      ]
     },
     "metadata": {
      "needs_background": "light"
     },
     "output_type": "display_data"
    },
    {
     "name": "stdout",
     "output_type": "stream",
     "text": [
      "used car price has value between 1,200 and 123,456\n",
      "(10781, 9)\n"
     ]
    }
   ],
   "source": [
    "plt.figure(figsize=(10, 5))\n",
    "plt.hist(df['price'], bins='auto')\n",
    "plt.show()\n",
    "print(\"used car price has value between {:,} and {:,}\".format(df['price'].min(),df['price'].max()))\n",
    "print(df.shape)"
   ]
  },
  {
   "cell_type": "markdown",
   "metadata": {
    "papermill": {
     "duration": 0.070084,
     "end_time": "2020-10-14T09:32:28.903238",
     "exception": false,
     "start_time": "2020-10-14T09:32:28.833154",
     "status": "completed"
    },
    "tags": []
   },
   "source": [
    "## Scope price for prediction between 3SD for precision model"
   ]
  },
  {
   "cell_type": "code",
   "execution_count": 23,
   "metadata": {
    "execution": {
     "iopub.execute_input": "2020-10-14T09:32:29.106201Z",
     "iopub.status.busy": "2020-10-14T09:32:29.105059Z",
     "iopub.status.idle": "2020-10-14T09:32:29.369566Z",
     "shell.execute_reply": "2020-10-14T09:32:29.368547Z"
    },
    "papermill": {
     "duration": 0.346963,
     "end_time": "2020-10-14T09:32:29.369730",
     "exception": false,
     "start_time": "2020-10-14T09:32:29.022767",
     "status": "completed"
    },
    "tags": []
   },
   "outputs": [
    {
     "data": {
      "image/png": "[encoded data removed]",
      "text/plain": [
       "<Figure size 720x360 with 1 Axes>"
      ]
     },
     "metadata": {
      "needs_background": "light"
     },
     "output_type": "display_data"
    },
    {
     "name": "stdout",
     "output_type": "stream",
     "text": [
      "used car price has value between 1,200 and 56,950\n",
      "(10580, 9)\n"
     ]
    }
   ],
   "source": [
    "z_score = stats.zscore(df['price'])\n",
    "#np.abs(z_score)\n",
    "#plt.figure(figsize=(10, 5))\n",
    "#plt.hist(np.abs(z_score), bins='auto')\n",
    "#plt.show()\n",
    "\n",
    "df = df[np.abs(z_score) < 3]\n",
    "plt.figure(figsize=(10, 5))\n",
    "plt.hist(df['price'], bins='auto')\n",
    "plt.show()\n",
    "print(\"used car price has value between {:,} and {:,}\".format(df['price'].min(),df['price'].max()))\n",
    "print(df.shape)"
   ]
  },
  {
   "cell_type": "markdown",
   "metadata": {
    "papermill": {
     "duration": 0.071259,
     "end_time": "2020-10-14T09:32:29.513425",
     "exception": false,
     "start_time": "2020-10-14T09:32:29.442166",
     "status": "completed"
    },
    "tags": []
   },
   "source": [
    "## for price we consider to use log to normalize the price scale to predict"
   ]
  },
  {
   "cell_type": "markdown",
   "metadata": {
    "papermill": {
     "duration": 0.070995,
     "end_time": "2020-10-14T09:32:29.656101",
     "exception": false,
     "start_time": "2020-10-14T09:32:29.585106",
     "status": "completed"
    },
    "tags": []
   },
   "source": [
    "# 3. Model Seletion"
   ]
  },
  {
   "cell_type": "code",
   "execution_count": 24,
   "metadata": {
    "execution": {
     "iopub.execute_input": "2020-10-14T09:32:29.807090Z",
     "iopub.status.busy": "2020-10-14T09:32:29.806158Z",
     "iopub.status.idle": "2020-10-14T09:32:29.808494Z",
     "shell.execute_reply": "2020-10-14T09:32:29.809032Z"
    },
    "papermill": {
     "duration": 0.08187,
     "end_time": "2020-10-14T09:32:29.809192",
     "exception": false,
     "start_time": "2020-10-14T09:32:29.727322",
     "status": "completed"
    },
    "tags": []
   },
   "outputs": [],
   "source": [
    "X = df.drop(columns=['price'])\n",
    "y = df.price"
   ]
  },
  {
   "cell_type": "code",
   "execution_count": 25,
   "metadata": {
    "execution": {
     "iopub.execute_input": "2020-10-14T09:32:29.968216Z",
     "iopub.status.busy": "2020-10-14T09:32:29.967344Z",
     "iopub.status.idle": "2020-10-14T09:32:29.971480Z",
     "shell.execute_reply": "2020-10-14T09:32:29.972049Z"
    },
    "papermill": {
     "duration": 0.091392,
     "end_time": "2020-10-14T09:32:29.972209",
     "exception": false,
     "start_time": "2020-10-14T09:32:29.880817",
     "status": "completed"
    },
    "tags": []
   },
   "outputs": [
    {
     "data": {
      "text/html": [
       "<div>\n",
       "<style scoped>\n",
       "    .dataframe tbody tr th:only-of-type {\n",
       "        vertical-align: middle;\n",
       "    }\n",
       "\n",
       "    .dataframe tbody tr th {\n",
       "        vertical-align: top;\n",
       "    }\n",
       "\n",
       "    .dataframe thead th {\n",
       "        text-align: right;\n",
       "    }\n",
       "</style>\n",
       "<table border=\"1\" class=\"dataframe\">\n",
       "  <thead>\n",
       "    <tr style=\"text-align: right;\">\n",
       "      <th></th>\n",
       "      <th>model</th>\n",
       "      <th>transmission</th>\n",
       "      <th>mileage</th>\n",
       "      <th>fuelType</th>\n",
       "      <th>tax</th>\n",
       "      <th>mpg</th>\n",
       "      <th>engineSize</th>\n",
       "      <th>age</th>\n",
       "    </tr>\n",
       "  </thead>\n",
       "  <tbody>\n",
       "    <tr>\n",
       "      <th>0</th>\n",
       "      <td>5 Series</td>\n",
       "      <td>Automatic</td>\n",
       "      <td>67068</td>\n",
       "      <td>Diesel</td>\n",
       "      <td>125</td>\n",
       "      <td>57.6</td>\n",
       "      <td>2.0</td>\n",
       "      <td>6</td>\n",
       "    </tr>\n",
       "    <tr>\n",
       "      <th>1</th>\n",
       "      <td>6 Series</td>\n",
       "      <td>Automatic</td>\n",
       "      <td>14827</td>\n",
       "      <td>Petrol</td>\n",
       "      <td>145</td>\n",
       "      <td>42.8</td>\n",
       "      <td>2.0</td>\n",
       "      <td>2</td>\n",
       "    </tr>\n",
       "    <tr>\n",
       "      <th>2</th>\n",
       "      <td>5 Series</td>\n",
       "      <td>Automatic</td>\n",
       "      <td>62794</td>\n",
       "      <td>Diesel</td>\n",
       "      <td>160</td>\n",
       "      <td>51.4</td>\n",
       "      <td>3.0</td>\n",
       "      <td>4</td>\n",
       "    </tr>\n",
       "    <tr>\n",
       "      <th>3</th>\n",
       "      <td>1 Series</td>\n",
       "      <td>Automatic</td>\n",
       "      <td>26676</td>\n",
       "      <td>Diesel</td>\n",
       "      <td>145</td>\n",
       "      <td>72.4</td>\n",
       "      <td>1.5</td>\n",
       "      <td>3</td>\n",
       "    </tr>\n",
       "    <tr>\n",
       "      <th>4</th>\n",
       "      <td>7 Series</td>\n",
       "      <td>Automatic</td>\n",
       "      <td>39554</td>\n",
       "      <td>Diesel</td>\n",
       "      <td>160</td>\n",
       "      <td>50.4</td>\n",
       "      <td>3.0</td>\n",
       "      <td>6</td>\n",
       "    </tr>\n",
       "  </tbody>\n",
       "</table>\n",
       "</div>"
      ],
      "text/plain": [
       "       model transmission  mileage fuelType  tax   mpg  engineSize  age\n",
       "0   5 Series    Automatic    67068   Diesel  125  57.6         2.0    6\n",
       "1   6 Series    Automatic    14827   Petrol  145  42.8         2.0    2\n",
       "2   5 Series    Automatic    62794   Diesel  160  51.4         3.0    4\n",
       "3   1 Series    Automatic    26676   Diesel  145  72.4         1.5    3\n",
       "4   7 Series    Automatic    39554   Diesel  160  50.4         3.0    6"
      ]
     },
     "execution_count": 25,
     "metadata": {},
     "output_type": "execute_result"
    }
   ],
   "source": [
    "X.head()"
   ]
  },
  {
   "cell_type": "code",
   "execution_count": 26,
   "metadata": {
    "execution": {
     "iopub.execute_input": "2020-10-14T09:32:30.125626Z",
     "iopub.status.busy": "2020-10-14T09:32:30.124657Z",
     "iopub.status.idle": "2020-10-14T09:32:30.129138Z",
     "shell.execute_reply": "2020-10-14T09:32:30.128408Z"
    },
    "papermill": {
     "duration": 0.085066,
     "end_time": "2020-10-14T09:32:30.129256",
     "exception": false,
     "start_time": "2020-10-14T09:32:30.044190",
     "status": "completed"
    },
    "tags": []
   },
   "outputs": [
    {
     "data": {
      "text/plain": [
       "0    11200\n",
       "1    27000\n",
       "2    16000\n",
       "3    12750\n",
       "4    14500\n",
       "Name: price, dtype: int64"
      ]
     },
     "execution_count": 26,
     "metadata": {},
     "output_type": "execute_result"
    }
   ],
   "source": [
    "y.head()"
   ]
  },
  {
   "cell_type": "markdown",
   "metadata": {
    "papermill": {
     "duration": 0.072321,
     "end_time": "2020-10-14T09:32:30.274811",
     "exception": false,
     "start_time": "2020-10-14T09:32:30.202490",
     "status": "completed"
    },
    "tags": []
   },
   "source": [
    "# Get dummies"
   ]
  },
  {
   "cell_type": "code",
   "execution_count": 27,
   "metadata": {
    "execution": {
     "iopub.execute_input": "2020-10-14T09:32:30.441413Z",
     "iopub.status.busy": "2020-10-14T09:32:30.440285Z",
     "iopub.status.idle": "2020-10-14T09:32:30.472072Z",
     "shell.execute_reply": "2020-10-14T09:32:30.472614Z"
    },
    "papermill": {
     "duration": 0.124406,
     "end_time": "2020-10-14T09:32:30.472773",
     "exception": false,
     "start_time": "2020-10-14T09:32:30.348367",
     "status": "completed"
    },
    "tags": []
   },
   "outputs": [
    {
     "data": {
      "text/html": [
       "<div>\n",
       "<style scoped>\n",
       "    .dataframe tbody tr th:only-of-type {\n",
       "        vertical-align: middle;\n",
       "    }\n",
       "\n",
       "    .dataframe tbody tr th {\n",
       "        vertical-align: top;\n",
       "    }\n",
       "\n",
       "    .dataframe thead th {\n",
       "        text-align: right;\n",
       "    }\n",
       "</style>\n",
       "<table border=\"1\" class=\"dataframe\">\n",
       "  <thead>\n",
       "    <tr style=\"text-align: right;\">\n",
       "      <th></th>\n",
       "      <th>mileage</th>\n",
       "      <th>tax</th>\n",
       "      <th>mpg</th>\n",
       "      <th>engineSize</th>\n",
       "      <th>age</th>\n",
       "      <th>model_ 2 Series</th>\n",
       "      <th>model_ 3 Series</th>\n",
       "      <th>model_ 4 Series</th>\n",
       "      <th>model_ 5 Series</th>\n",
       "      <th>model_ 6 Series</th>\n",
       "      <th>...</th>\n",
       "      <th>model_ Z3</th>\n",
       "      <th>model_ Z4</th>\n",
       "      <th>model_ i3</th>\n",
       "      <th>model_ i8</th>\n",
       "      <th>transmission_Manual</th>\n",
       "      <th>transmission_Semi-Auto</th>\n",
       "      <th>fuelType_Electric</th>\n",
       "      <th>fuelType_Hybrid</th>\n",
       "      <th>fuelType_Other</th>\n",
       "      <th>fuelType_Petrol</th>\n",
       "    </tr>\n",
       "  </thead>\n",
       "  <tbody>\n",
       "    <tr>\n",
       "      <th>0</th>\n",
       "      <td>67068</td>\n",
       "      <td>125</td>\n",
       "      <td>57.6</td>\n",
       "      <td>2.0</td>\n",
       "      <td>6</td>\n",
       "      <td>0</td>\n",
       "      <td>0</td>\n",
       "      <td>0</td>\n",
       "      <td>1</td>\n",
       "      <td>0</td>\n",
       "      <td>...</td>\n",
       "      <td>0</td>\n",
       "      <td>0</td>\n",
       "      <td>0</td>\n",
       "      <td>0</td>\n",
       "      <td>0</td>\n",
       "      <td>0</td>\n",
       "      <td>0</td>\n",
       "      <td>0</td>\n",
       "      <td>0</td>\n",
       "      <td>0</td>\n",
       "    </tr>\n",
       "    <tr>\n",
       "      <th>1</th>\n",
       "      <td>14827</td>\n",
       "      <td>145</td>\n",
       "      <td>42.8</td>\n",
       "      <td>2.0</td>\n",
       "      <td>2</td>\n",
       "      <td>0</td>\n",
       "      <td>0</td>\n",
       "      <td>0</td>\n",
       "      <td>0</td>\n",
       "      <td>1</td>\n",
       "      <td>...</td>\n",
       "      <td>0</td>\n",
       "      <td>0</td>\n",
       "      <td>0</td>\n",
       "      <td>0</td>\n",
       "      <td>0</td>\n",
       "      <td>0</td>\n",
       "      <td>0</td>\n",
       "      <td>0</td>\n",
       "      <td>0</td>\n",
       "      <td>1</td>\n",
       "    </tr>\n",
       "    <tr>\n",
       "      <th>2</th>\n",
       "      <td>62794</td>\n",
       "      <td>160</td>\n",
       "      <td>51.4</td>\n",
       "      <td>3.0</td>\n",
       "      <td>4</td>\n",
       "      <td>0</td>\n",
       "      <td>0</td>\n",
       "      <td>0</td>\n",
       "      <td>1</td>\n",
       "      <td>0</td>\n",
       "      <td>...</td>\n",
       "      <td>0</td>\n",
       "      <td>0</td>\n",
       "      <td>0</td>\n",
       "      <td>0</td>\n",
       "      <td>0</td>\n",
       "      <td>0</td>\n",
       "      <td>0</td>\n",
       "      <td>0</td>\n",
       "      <td>0</td>\n",
       "      <td>0</td>\n",
       "    </tr>\n",
       "    <tr>\n",
       "      <th>3</th>\n",
       "      <td>26676</td>\n",
       "      <td>145</td>\n",
       "      <td>72.4</td>\n",
       "      <td>1.5</td>\n",
       "      <td>3</td>\n",
       "      <td>0</td>\n",
       "      <td>0</td>\n",
       "      <td>0</td>\n",
       "      <td>0</td>\n",
       "      <td>0</td>\n",
       "      <td>...</td>\n",
       "      <td>0</td>\n",
       "      <td>0</td>\n",
       "      <td>0</td>\n",
       "      <td>0</td>\n",
       "      <td>0</td>\n",
       "      <td>0</td>\n",
       "      <td>0</td>\n",
       "      <td>0</td>\n",
       "      <td>0</td>\n",
       "      <td>0</td>\n",
       "    </tr>\n",
       "    <tr>\n",
       "      <th>4</th>\n",
       "      <td>39554</td>\n",
       "      <td>160</td>\n",
       "      <td>50.4</td>\n",
       "      <td>3.0</td>\n",
       "      <td>6</td>\n",
       "      <td>0</td>\n",
       "      <td>0</td>\n",
       "      <td>0</td>\n",
       "      <td>0</td>\n",
       "      <td>0</td>\n",
       "      <td>...</td>\n",
       "      <td>0</td>\n",
       "      <td>0</td>\n",
       "      <td>0</td>\n",
       "      <td>0</td>\n",
       "      <td>0</td>\n",
       "      <td>0</td>\n",
       "      <td>0</td>\n",
       "      <td>0</td>\n",
       "      <td>0</td>\n",
       "      <td>0</td>\n",
       "    </tr>\n",
       "  </tbody>\n",
       "</table>\n",
       "<p>5 rows × 33 columns</p>\n",
       "</div>"
      ],
      "text/plain": [
       "   mileage  tax   mpg  engineSize  age  model_ 2 Series  model_ 3 Series  \\\n",
       "0    67068  125  57.6         2.0    6                0                0   \n",
       "1    14827  145  42.8         2.0    2                0                0   \n",
       "2    62794  160  51.4         3.0    4                0                0   \n",
       "3    26676  145  72.4         1.5    3                0                0   \n",
       "4    39554  160  50.4         3.0    6                0                0   \n",
       "\n",
       "   model_ 4 Series  model_ 5 Series  model_ 6 Series  ...  model_ Z3  \\\n",
       "0                0                1                0  ...          0   \n",
       "1                0                0                1  ...          0   \n",
       "2                0                1                0  ...          0   \n",
       "3                0                0                0  ...          0   \n",
       "4                0                0                0  ...          0   \n",
       "\n",
       "   model_ Z4  model_ i3  model_ i8  transmission_Manual  \\\n",
       "0          0          0          0                    0   \n",
       "1          0          0          0                    0   \n",
       "2          0          0          0                    0   \n",
       "3          0          0          0                    0   \n",
       "4          0          0          0                    0   \n",
       "\n",
       "   transmission_Semi-Auto  fuelType_Electric  fuelType_Hybrid  fuelType_Other  \\\n",
       "0                       0                  0                0               0   \n",
       "1                       0                  0                0               0   \n",
       "2                       0                  0                0               0   \n",
       "3                       0                  0                0               0   \n",
       "4                       0                  0                0               0   \n",
       "\n",
       "   fuelType_Petrol  \n",
       "0                0  \n",
       "1                1  \n",
       "2                0  \n",
       "3                0  \n",
       "4                0  \n",
       "\n",
       "[5 rows x 33 columns]"
      ]
     },
     "execution_count": 27,
     "metadata": {},
     "output_type": "execute_result"
    }
   ],
   "source": [
    "X = pd.get_dummies(X, prefix_sep='_', drop_first=True)\n",
    "X.head()"
   ]
  },
  {
   "cell_type": "markdown",
   "metadata": {
    "papermill": {
     "duration": 0.074758,
     "end_time": "2020-10-14T09:32:30.622734",
     "exception": false,
     "start_time": "2020-10-14T09:32:30.547976",
     "status": "completed"
    },
    "tags": []
   },
   "source": [
    "# Fit Model and Cross Validation Score"
   ]
  },
  {
   "cell_type": "markdown",
   "metadata": {
    "papermill": {
     "duration": 0.073623,
     "end_time": "2020-10-14T09:32:30.769852",
     "exception": false,
     "start_time": "2020-10-14T09:32:30.696229",
     "status": "completed"
    },
    "tags": []
   },
   "source": [
    "## Using Linear Regression Model"
   ]
  },
  {
   "cell_type": "code",
   "execution_count": 28,
   "metadata": {
    "execution": {
     "iopub.execute_input": "2020-10-14T09:32:30.926463Z",
     "iopub.status.busy": "2020-10-14T09:32:30.925704Z",
     "iopub.status.idle": "2020-10-14T09:32:31.501641Z",
     "shell.execute_reply": "2020-10-14T09:32:31.500878Z"
    },
    "papermill": {
     "duration": 0.657388,
     "end_time": "2020-10-14T09:32:31.501768",
     "exception": false,
     "start_time": "2020-10-14T09:32:30.844380",
     "status": "completed"
    },
    "tags": []
   },
   "outputs": [
    {
     "name": "stdout",
     "output_type": "stream",
     "text": [
      "Linear Regression Score: 0.8071258131543612\n"
     ]
    }
   ],
   "source": [
    "X_train, X_test, y_train, y_test = train_test_split(X, y, test_size=0.3)\n",
    "reg = LinearRegression().fit(X, y)\n",
    "\n",
    "print('Linear Regression Score: {}'.format(cross_val_score(reg, X, y, cv=30).mean()))"
   ]
  },
  {
   "cell_type": "code",
   "execution_count": 29,
   "metadata": {
    "execution": {
     "iopub.execute_input": "2020-10-14T09:32:31.662188Z",
     "iopub.status.busy": "2020-10-14T09:32:31.661400Z",
     "iopub.status.idle": "2020-10-14T09:32:31.953697Z",
     "shell.execute_reply": "2020-10-14T09:32:31.952325Z"
    },
    "papermill": {
     "duration": 0.376898,
     "end_time": "2020-10-14T09:32:31.953864",
     "exception": false,
     "start_time": "2020-10-14T09:32:31.576966",
     "status": "completed"
    },
    "tags": []
   },
   "outputs": [
    {
     "name": "stdout",
     "output_type": "stream",
     "text": [
      "Test_model_score =  0.8591911122406153\n"
     ]
    }
   ],
   "source": [
    "y_predicted = reg.predict(X_test)\n",
    "\n",
    "accuracy_test = cross_val_score(reg, X_test, y_test, cv=30)\n",
    "print('Test_model_score = ', accuracy_test.mean())"
   ]
  },
  {
   "cell_type": "code",
   "execution_count": 30,
   "metadata": {
    "execution": {
     "iopub.execute_input": "2020-10-14T09:32:32.110895Z",
     "iopub.status.busy": "2020-10-14T09:32:32.109808Z",
     "iopub.status.idle": "2020-10-14T09:32:32.113599Z",
     "shell.execute_reply": "2020-10-14T09:32:32.114116Z"
    },
    "papermill": {
     "duration": 0.085182,
     "end_time": "2020-10-14T09:32:32.114275",
     "exception": false,
     "start_time": "2020-10-14T09:32:32.029093",
     "status": "completed"
    },
    "tags": []
   },
   "outputs": [
    {
     "data": {
      "text/plain": [
       "array([ 9928.49070385, 22471.40222368, 21682.43022034, ...,\n",
       "       21758.32197043, 20737.59340663, 14082.44711352])"
      ]
     },
     "execution_count": 30,
     "metadata": {},
     "output_type": "execute_result"
    }
   ],
   "source": [
    "y_predicted"
   ]
  },
  {
   "cell_type": "code",
   "execution_count": 31,
   "metadata": {
    "execution": {
     "iopub.execute_input": "2020-10-14T09:32:32.274459Z",
     "iopub.status.busy": "2020-10-14T09:32:32.273426Z",
     "iopub.status.idle": "2020-10-14T09:32:32.278377Z",
     "shell.execute_reply": "2020-10-14T09:32:32.278992Z"
    },
    "papermill": {
     "duration": 0.088269,
     "end_time": "2020-10-14T09:32:32.279155",
     "exception": false,
     "start_time": "2020-10-14T09:32:32.190886",
     "status": "completed"
    },
    "tags": []
   },
   "outputs": [
    {
     "data": {
      "text/plain": [
       "0        9928.490704\n",
       "1       22471.402224\n",
       "2       21682.430220\n",
       "3       25406.902345\n",
       "4       -4840.961220\n",
       "            ...     \n",
       "3169    17443.434230\n",
       "3170    34081.574241\n",
       "3171    21758.321970\n",
       "3172    20737.593407\n",
       "3173    14082.447114\n",
       "Name: price_predict, Length: 3174, dtype: float64"
      ]
     },
     "execution_count": 31,
     "metadata": {},
     "output_type": "execute_result"
    }
   ],
   "source": [
    "pd.Series(y_predicted, name='price_predict')"
   ]
  },
  {
   "cell_type": "code",
   "execution_count": 32,
   "metadata": {
    "execution": {
     "iopub.execute_input": "2020-10-14T09:32:32.451734Z",
     "iopub.status.busy": "2020-10-14T09:32:32.450488Z",
     "iopub.status.idle": "2020-10-14T09:32:32.456146Z",
     "shell.execute_reply": "2020-10-14T09:32:32.455501Z"
    },
    "papermill": {
     "duration": 0.100361,
     "end_time": "2020-10-14T09:32:32.456275",
     "exception": false,
     "start_time": "2020-10-14T09:32:32.355914",
     "status": "completed"
    },
    "tags": []
   },
   "outputs": [
    {
     "data": {
      "text/html": [
       "<div>\n",
       "<style scoped>\n",
       "    .dataframe tbody tr th:only-of-type {\n",
       "        vertical-align: middle;\n",
       "    }\n",
       "\n",
       "    .dataframe tbody tr th {\n",
       "        vertical-align: top;\n",
       "    }\n",
       "\n",
       "    .dataframe thead th {\n",
       "        text-align: right;\n",
       "    }\n",
       "</style>\n",
       "<table border=\"1\" class=\"dataframe\">\n",
       "  <thead>\n",
       "    <tr style=\"text-align: right;\">\n",
       "      <th></th>\n",
       "      <th>price</th>\n",
       "      <th>price_predict</th>\n",
       "    </tr>\n",
       "  </thead>\n",
       "  <tbody>\n",
       "    <tr>\n",
       "      <th>0</th>\n",
       "      <td>10499</td>\n",
       "      <td>9928.490704</td>\n",
       "    </tr>\n",
       "    <tr>\n",
       "      <th>1</th>\n",
       "      <td>20875</td>\n",
       "      <td>22471.402224</td>\n",
       "    </tr>\n",
       "    <tr>\n",
       "      <th>2</th>\n",
       "      <td>19880</td>\n",
       "      <td>21682.430220</td>\n",
       "    </tr>\n",
       "    <tr>\n",
       "      <th>3</th>\n",
       "      <td>24450</td>\n",
       "      <td>25406.902345</td>\n",
       "    </tr>\n",
       "    <tr>\n",
       "      <th>4</th>\n",
       "      <td>2375</td>\n",
       "      <td>-4840.961220</td>\n",
       "    </tr>\n",
       "    <tr>\n",
       "      <th>...</th>\n",
       "      <td>...</td>\n",
       "      <td>...</td>\n",
       "    </tr>\n",
       "    <tr>\n",
       "      <th>3169</th>\n",
       "      <td>14500</td>\n",
       "      <td>17443.434230</td>\n",
       "    </tr>\n",
       "    <tr>\n",
       "      <th>3170</th>\n",
       "      <td>30998</td>\n",
       "      <td>34081.574241</td>\n",
       "    </tr>\n",
       "    <tr>\n",
       "      <th>3171</th>\n",
       "      <td>14998</td>\n",
       "      <td>21758.321970</td>\n",
       "    </tr>\n",
       "    <tr>\n",
       "      <th>3172</th>\n",
       "      <td>25450</td>\n",
       "      <td>20737.593407</td>\n",
       "    </tr>\n",
       "    <tr>\n",
       "      <th>3173</th>\n",
       "      <td>10422</td>\n",
       "      <td>14082.447114</td>\n",
       "    </tr>\n",
       "  </tbody>\n",
       "</table>\n",
       "<p>3174 rows × 2 columns</p>\n",
       "</div>"
      ],
      "text/plain": [
       "      price  price_predict\n",
       "0     10499    9928.490704\n",
       "1     20875   22471.402224\n",
       "2     19880   21682.430220\n",
       "3     24450   25406.902345\n",
       "4      2375   -4840.961220\n",
       "...     ...            ...\n",
       "3169  14500   17443.434230\n",
       "3170  30998   34081.574241\n",
       "3171  14998   21758.321970\n",
       "3172  25450   20737.593407\n",
       "3173  10422   14082.447114\n",
       "\n",
       "[3174 rows x 2 columns]"
      ]
     },
     "execution_count": 32,
     "metadata": {},
     "output_type": "execute_result"
    }
   ],
   "source": [
    "d_test = pd.concat([y_test.reset_index(drop=True),pd.Series(y_predicted, name='price_predict')], axis='columns' )\n",
    "d_test"
   ]
  },
  {
   "cell_type": "code",
   "execution_count": 33,
   "metadata": {
    "execution": {
     "iopub.execute_input": "2020-10-14T09:32:32.620666Z",
     "iopub.status.busy": "2020-10-14T09:32:32.619835Z",
     "iopub.status.idle": "2020-10-14T09:32:32.624247Z",
     "shell.execute_reply": "2020-10-14T09:32:32.623690Z"
    },
    "papermill": {
     "duration": 0.091372,
     "end_time": "2020-10-14T09:32:32.624370",
     "exception": false,
     "start_time": "2020-10-14T09:32:32.532998",
     "status": "completed"
    },
    "tags": []
   },
   "outputs": [
    {
     "data": {
      "text/html": [
       "<div>\n",
       "<style scoped>\n",
       "    .dataframe tbody tr th:only-of-type {\n",
       "        vertical-align: middle;\n",
       "    }\n",
       "\n",
       "    .dataframe tbody tr th {\n",
       "        vertical-align: top;\n",
       "    }\n",
       "\n",
       "    .dataframe thead th {\n",
       "        text-align: right;\n",
       "    }\n",
       "</style>\n",
       "<table border=\"1\" class=\"dataframe\">\n",
       "  <thead>\n",
       "    <tr style=\"text-align: right;\">\n",
       "      <th></th>\n",
       "      <th>price</th>\n",
       "      <th>price_predict</th>\n",
       "    </tr>\n",
       "  </thead>\n",
       "  <tbody>\n",
       "    <tr>\n",
       "      <th>price</th>\n",
       "      <td>1.000000</td>\n",
       "      <td>0.930493</td>\n",
       "    </tr>\n",
       "    <tr>\n",
       "      <th>price_predict</th>\n",
       "      <td>0.930493</td>\n",
       "      <td>1.000000</td>\n",
       "    </tr>\n",
       "  </tbody>\n",
       "</table>\n",
       "</div>"
      ],
      "text/plain": [
       "                  price  price_predict\n",
       "price          1.000000       0.930493\n",
       "price_predict  0.930493       1.000000"
      ]
     },
     "execution_count": 33,
     "metadata": {},
     "output_type": "execute_result"
    }
   ],
   "source": [
    "d_test.corr(method ='pearson') "
   ]
  },
  {
   "cell_type": "markdown",
   "metadata": {
    "papermill": {
     "duration": 0.077687,
     "end_time": "2020-10-14T09:32:32.779156",
     "exception": false,
     "start_time": "2020-10-14T09:32:32.701469",
     "status": "completed"
    },
    "tags": []
   },
   "source": [
    "# END"
   ]
  },
  {
   "cell_type": "code",
   "execution_count": 34,
   "metadata": {
    "execution": {
     "iopub.execute_input": "2020-10-14T09:32:32.939846Z",
     "iopub.status.busy": "2020-10-14T09:32:32.938977Z",
     "iopub.status.idle": "2020-10-14T09:32:32.942486Z",
     "shell.execute_reply": "2020-10-14T09:32:32.943200Z"
    },
    "papermill": {
     "duration": 0.087131,
     "end_time": "2020-10-14T09:32:32.943360",
     "exception": false,
     "start_time": "2020-10-14T09:32:32.856229",
     "status": "completed"
    },
    "tags": []
   },
   "outputs": [
    {
     "name": "stdout",
     "output_type": "stream",
     "text": [
      "------------------------------------------------------------------------------------------------------------------------------------------------------------------------------------------------------------------------------------------------\n"
     ]
    }
   ],
   "source": [
    "print('--'*120)"
   ]
  },
  {
   "cell_type": "code",
   "execution_count": null,
   "metadata": {
    "papermill": {
     "duration": 0.079031,
     "end_time": "2020-10-14T09:32:33.102231",
     "exception": false,
     "start_time": "2020-10-14T09:32:33.023200",
     "status": "completed"
    },
    "tags": []
   },
   "outputs": [],
   "source": []
  },
  {
   "cell_type": "code",
   "execution_count": null,
   "metadata": {
    "papermill": {
     "duration": 0.077944,
     "end_time": "2020-10-14T09:32:33.259235",
     "exception": false,
     "start_time": "2020-10-14T09:32:33.181291",
     "status": "completed"
    },
    "tags": []
   },
   "outputs": [],
   "source": []
  },
  {
   "cell_type": "markdown",
   "metadata": {
    "papermill": {
     "duration": 0.080598,
     "end_time": "2020-10-14T09:32:33.418160",
     "exception": false,
     "start_time": "2020-10-14T09:32:33.337562",
     "status": "completed"
    },
    "tags": []
   },
   "source": [
    "# Applying to Multiple Files\n",
    "\n",
    "So far, you've one-hot-encoded your training data. What about when you have multiple files (e.g. a test dataset, or some other data that you'd like to make predictions for)? Scikit-learn is sensitive to the ordering of columns, so if the training dataset and test datasets get misaligned, your results will be nonsense. This could happen if a categorical had a different number of values in the training data vs the test data.\n",
    "\n",
    "Ensure the test data is encoded in the same manner as the training data with the align command:"
   ]
  },
  {
   "cell_type": "code",
   "execution_count": 35,
   "metadata": {
    "execution": {
     "iopub.execute_input": "2020-10-14T09:32:33.580754Z",
     "iopub.status.busy": "2020-10-14T09:32:33.579958Z",
     "iopub.status.idle": "2020-10-14T09:32:33.582915Z",
     "shell.execute_reply": "2020-10-14T09:32:33.582335Z"
    },
    "papermill": {
     "duration": 0.086203,
     "end_time": "2020-10-14T09:32:33.583039",
     "exception": false,
     "start_time": "2020-10-14T09:32:33.496836",
     "status": "completed"
    },
    "tags": []
   },
   "outputs": [],
   "source": [
    "#X_train_d = pd.get_dummies(X_train, columns= ['model', 'transmission', 'fuelType'], drop_first = True)\n",
    "#X_test_d = pd.get_dummies(X_test, columns= ['model', 'transmission', 'fuelType'], drop_first = True)"
   ]
  },
  {
   "cell_type": "code",
   "execution_count": 36,
   "metadata": {
    "execution": {
     "iopub.execute_input": "2020-10-14T09:32:33.745479Z",
     "iopub.status.busy": "2020-10-14T09:32:33.744776Z",
     "iopub.status.idle": "2020-10-14T09:32:33.828811Z",
     "shell.execute_reply": "2020-10-14T09:32:33.829356Z"
    },
    "papermill": {
     "duration": 0.168231,
     "end_time": "2020-10-14T09:32:33.829520",
     "exception": false,
     "start_time": "2020-10-14T09:32:33.661289",
     "status": "completed"
    },
    "tags": []
   },
   "outputs": [
    {
     "ename": "NameError",
     "evalue": "name 'train' is not defined",
     "output_type": "error",
     "traceback": [
      "\u001b[0;31m---------------------------------------------------------------------------\u001b[0m",
      "\u001b[0;31mNameError\u001b[0m                                 Traceback (most recent call last)",
      "\u001b[0;32m<ipython-input-36-a87dab186d34>\u001b[0m in \u001b[0;36m<module>\u001b[0;34m\u001b[0m\n\u001b[0;32m----> 1\u001b[0;31m \u001b[0mtrain\u001b[0m\u001b[0;34m.\u001b[0m\u001b[0mselect_dtypes\u001b[0m\u001b[0;34m(\u001b[0m\u001b[0minclude\u001b[0m\u001b[0;34m=\u001b[0m\u001b[0;34m[\u001b[0m\u001b[0;34m'object'\u001b[0m\u001b[0;34m]\u001b[0m\u001b[0;34m)\u001b[0m\u001b[0;34m\u001b[0m\u001b[0;34m\u001b[0m\u001b[0m\n\u001b[0m",
      "\u001b[0;31mNameError\u001b[0m: name 'train' is not defined"
     ]
    }
   ],
   "source": [
    "train.select_dtypes(include=['object'])"
   ]
  },
  {
   "cell_type": "code",
   "execution_count": 37,
   "metadata": {
    "execution": {
     "iopub.execute_input": "2020-10-14T09:32:34.004070Z",
     "iopub.status.busy": "2020-10-14T09:32:34.003192Z",
     "iopub.status.idle": "2020-10-14T09:32:34.008101Z",
     "shell.execute_reply": "2020-10-14T09:32:34.007330Z"
    },
    "papermill": {
     "duration": 0.099232,
     "end_time": "2020-10-14T09:32:34.008236",
     "exception": false,
     "start_time": "2020-10-14T09:32:33.909004",
     "status": "completed"
    },
    "tags": []
   },
   "outputs": [
    {
     "ename": "NameError",
     "evalue": "name 'ohe_training' is not defined",
     "output_type": "error",
     "traceback": [
      "\u001b[0;31m---------------------------------------------------------------------------\u001b[0m",
      "\u001b[0;31mNameError\u001b[0m                                 Traceback (most recent call last)",
      "\u001b[0;32m<ipython-input-37-8052f7404bc9>\u001b[0m in \u001b[0;36m<module>\u001b[0;34m\u001b[0m\n\u001b[0;32m----> 1\u001b[0;31m \u001b[0mohe_training\u001b[0m \u001b[0;34m=\u001b[0m \u001b[0mpd\u001b[0m\u001b[0;34m.\u001b[0m\u001b[0mget_dummies\u001b[0m\u001b[0;34m(\u001b[0m\u001b[0mohe_training\u001b[0m\u001b[0;34m[\u001b[0m\u001b[0mtrain\u001b[0m\u001b[0;34m.\u001b[0m\u001b[0mselect_dtypes\u001b[0m\u001b[0;34m(\u001b[0m\u001b[0minclude\u001b[0m\u001b[0;34m=\u001b[0m\u001b[0;34m[\u001b[0m\u001b[0;34m'object'\u001b[0m\u001b[0;34m]\u001b[0m\u001b[0;34m)\u001b[0m\u001b[0;34m]\u001b[0m\u001b[0;34m)\u001b[0m\u001b[0;34m\u001b[0m\u001b[0;34m\u001b[0m\u001b[0m\n\u001b[0m\u001b[1;32m      2\u001b[0m \u001b[0mohe_training\u001b[0m\u001b[0;34m\u001b[0m\u001b[0;34m\u001b[0m\u001b[0m\n",
      "\u001b[0;31mNameError\u001b[0m: name 'ohe_training' is not defined"
     ]
    }
   ],
   "source": [
    "ohe_training = pd.get_dummies(ohe_training[train.select_dtypes(include=['object'])])\n",
    "ohe_training"
   ]
  },
  {
   "cell_type": "code",
   "execution_count": 38,
   "metadata": {
    "execution": {
     "iopub.execute_input": "2020-10-14T09:32:34.185566Z",
     "iopub.status.busy": "2020-10-14T09:32:34.184753Z",
     "iopub.status.idle": "2020-10-14T09:32:34.189371Z",
     "shell.execute_reply": "2020-10-14T09:32:34.188671Z"
    },
    "papermill": {
     "duration": 0.100712,
     "end_time": "2020-10-14T09:32:34.189516",
     "exception": false,
     "start_time": "2020-10-14T09:32:34.088804",
     "status": "completed"
    },
    "tags": []
   },
   "outputs": [
    {
     "ename": "NameError",
     "evalue": "name 'train' is not defined",
     "output_type": "error",
     "traceback": [
      "\u001b[0;31m---------------------------------------------------------------------------\u001b[0m",
      "\u001b[0;31mNameError\u001b[0m                                 Traceback (most recent call last)",
      "\u001b[0;32m<ipython-input-38-ee0670167a76>\u001b[0m in \u001b[0;36m<module>\u001b[0;34m\u001b[0m\n\u001b[0;32m----> 1\u001b[0;31m \u001b[0mohe_training\u001b[0m \u001b[0;34m=\u001b[0m \u001b[0mpd\u001b[0m\u001b[0;34m.\u001b[0m\u001b[0mget_dummies\u001b[0m\u001b[0;34m(\u001b[0m\u001b[0mtrain\u001b[0m\u001b[0;34m)\u001b[0m\u001b[0;34m\u001b[0m\u001b[0;34m\u001b[0m\u001b[0m\n\u001b[0m\u001b[1;32m      2\u001b[0m \u001b[0mohe_test\u001b[0m \u001b[0;34m=\u001b[0m \u001b[0mpd\u001b[0m\u001b[0;34m.\u001b[0m\u001b[0mget_dummies\u001b[0m\u001b[0;34m(\u001b[0m\u001b[0mtest\u001b[0m\u001b[0;34m)\u001b[0m\u001b[0;34m\u001b[0m\u001b[0;34m\u001b[0m\u001b[0m\n\u001b[1;32m      3\u001b[0m \u001b[0;34m\u001b[0m\u001b[0m\n\u001b[1;32m      4\u001b[0m \u001b[0mfinal_train\u001b[0m\u001b[0;34m,\u001b[0m \u001b[0mfinal_test\u001b[0m \u001b[0;34m=\u001b[0m \u001b[0mohe_training\u001b[0m\u001b[0;34m.\u001b[0m\u001b[0malign\u001b[0m\u001b[0;34m(\u001b[0m\u001b[0mohe_test\u001b[0m\u001b[0;34m,\u001b[0m \u001b[0mjoin\u001b[0m\u001b[0;34m=\u001b[0m\u001b[0;34m'left'\u001b[0m\u001b[0;34m,\u001b[0m \u001b[0maxis\u001b[0m\u001b[0;34m=\u001b[0m\u001b[0;36m1\u001b[0m\u001b[0;34m)\u001b[0m\u001b[0;34m\u001b[0m\u001b[0;34m\u001b[0m\u001b[0m\n",
      "\u001b[0;31mNameError\u001b[0m: name 'train' is not defined"
     ]
    }
   ],
   "source": [
    "ohe_training = pd.get_dummies(train)\n",
    "ohe_test = pd.get_dummies(test)\n",
    "\n",
    "final_train, final_test = ohe_training.align(ohe_test, join='left', axis=1)"
   ]
  },
  {
   "cell_type": "code",
   "execution_count": 39,
   "metadata": {
    "execution": {
     "iopub.execute_input": "2020-10-14T09:32:34.366028Z",
     "iopub.status.busy": "2020-10-14T09:32:34.364847Z",
     "iopub.status.idle": "2020-10-14T09:32:34.369489Z",
     "shell.execute_reply": "2020-10-14T09:32:34.370108Z"
    },
    "papermill": {
     "duration": 0.100574,
     "end_time": "2020-10-14T09:32:34.370266",
     "exception": false,
     "start_time": "2020-10-14T09:32:34.269692",
     "status": "completed"
    },
    "tags": []
   },
   "outputs": [
    {
     "ename": "NameError",
     "evalue": "name 'final_test' is not defined",
     "output_type": "error",
     "traceback": [
      "\u001b[0;31m---------------------------------------------------------------------------\u001b[0m",
      "\u001b[0;31mNameError\u001b[0m                                 Traceback (most recent call last)",
      "\u001b[0;32m<ipython-input-39-1b2154158d79>\u001b[0m in \u001b[0;36m<module>\u001b[0;34m\u001b[0m\n\u001b[0;32m----> 1\u001b[0;31m \u001b[0mfinal_test\u001b[0m\u001b[0;34m.\u001b[0m\u001b[0misnull\u001b[0m\u001b[0;34m(\u001b[0m\u001b[0;34m)\u001b[0m\u001b[0;34m.\u001b[0m\u001b[0many\u001b[0m\u001b[0;34m(\u001b[0m\u001b[0;34m)\u001b[0m\u001b[0;34m\u001b[0m\u001b[0;34m\u001b[0m\u001b[0m\n\u001b[0m",
      "\u001b[0;31mNameError\u001b[0m: name 'final_test' is not defined"
     ]
    }
   ],
   "source": [
    "final_test.isnull().any()"
   ]
  },
  {
   "cell_type": "markdown",
   "metadata": {
    "papermill": {
     "duration": 0.096411,
     "end_time": "2020-10-14T09:32:34.562632",
     "exception": false,
     "start_time": "2020-10-14T09:32:34.466221",
     "status": "completed"
    },
    "tags": []
   },
   "source": [
    "The align command makes sure the columns show up in the same order in both datasets (it uses column names to identify which columns line up in each dataset.) The argument join='left' specifies that we will do the equivalent of SQL's left join. That means, if there are ever columns that show up in one dataset and not the other, we will keep exactly the columns from our training data. The argument join='inner' would do what SQL databases call an inner join, keeping only the columns showing up in both datasets. That's also a sensible choice."
   ]
  },
  {
   "cell_type": "code",
   "execution_count": 40,
   "metadata": {
    "execution": {
     "iopub.execute_input": "2020-10-14T09:32:34.742767Z",
     "iopub.status.busy": "2020-10-14T09:32:34.741832Z",
     "iopub.status.idle": "2020-10-14T09:32:34.746676Z",
     "shell.execute_reply": "2020-10-14T09:32:34.745919Z"
    },
    "papermill": {
     "duration": 0.101025,
     "end_time": "2020-10-14T09:32:34.746801",
     "exception": false,
     "start_time": "2020-10-14T09:32:34.645776",
     "status": "completed"
    },
    "tags": []
   },
   "outputs": [
    {
     "ename": "NameError",
     "evalue": "name 'final_train' is not defined",
     "output_type": "error",
     "traceback": [
      "\u001b[0;31m---------------------------------------------------------------------------\u001b[0m",
      "\u001b[0;31mNameError\u001b[0m                                 Traceback (most recent call last)",
      "\u001b[0;32m<ipython-input-40-efd8f1803fa7>\u001b[0m in \u001b[0;36m<module>\u001b[0;34m\u001b[0m\n\u001b[0;32m----> 1\u001b[0;31m \u001b[0mX_train_d\u001b[0m \u001b[0;34m=\u001b[0m \u001b[0mfinal_train\u001b[0m\u001b[0;34m.\u001b[0m\u001b[0mdrop\u001b[0m\u001b[0;34m(\u001b[0m\u001b[0;34m[\u001b[0m\u001b[0;34m'price'\u001b[0m\u001b[0;34m]\u001b[0m\u001b[0;34m,\u001b[0m \u001b[0maxis\u001b[0m\u001b[0;34m=\u001b[0m\u001b[0;36m1\u001b[0m\u001b[0;34m)\u001b[0m\u001b[0;34m\u001b[0m\u001b[0;34m\u001b[0m\u001b[0m\n\u001b[0m\u001b[1;32m      2\u001b[0m \u001b[0my_train_d\u001b[0m \u001b[0;34m=\u001b[0m \u001b[0mfinal_train\u001b[0m\u001b[0;34m[\u001b[0m\u001b[0;34m'price'\u001b[0m\u001b[0;34m]\u001b[0m\u001b[0;34m\u001b[0m\u001b[0;34m\u001b[0m\u001b[0m\n\u001b[1;32m      3\u001b[0m \u001b[0;34m\u001b[0m\u001b[0m\n\u001b[1;32m      4\u001b[0m \u001b[0mX_test_d\u001b[0m \u001b[0;34m=\u001b[0m \u001b[0mfinal_test\u001b[0m\u001b[0;34m.\u001b[0m\u001b[0mdrop\u001b[0m\u001b[0;34m(\u001b[0m\u001b[0;34m[\u001b[0m\u001b[0;34m'price'\u001b[0m\u001b[0;34m]\u001b[0m\u001b[0;34m,\u001b[0m \u001b[0maxis\u001b[0m\u001b[0;34m=\u001b[0m\u001b[0;36m1\u001b[0m\u001b[0;34m)\u001b[0m\u001b[0;34m\u001b[0m\u001b[0;34m\u001b[0m\u001b[0m\n\u001b[1;32m      5\u001b[0m \u001b[0my_test_d\u001b[0m \u001b[0;34m=\u001b[0m \u001b[0mfinal_test\u001b[0m\u001b[0;34m[\u001b[0m\u001b[0;34m'price'\u001b[0m\u001b[0;34m]\u001b[0m\u001b[0;34m\u001b[0m\u001b[0;34m\u001b[0m\u001b[0m\n",
      "\u001b[0;31mNameError\u001b[0m: name 'final_train' is not defined"
     ]
    }
   ],
   "source": [
    "X_train_d = final_train.drop(['price'], axis=1)\n",
    "y_train_d = final_train['price']\n",
    "\n",
    "X_test_d = final_test.drop(['price'], axis=1)\n",
    "y_test_d = final_test['price']"
   ]
  },
  {
   "cell_type": "code",
   "execution_count": 41,
   "metadata": {
    "execution": {
     "iopub.execute_input": "2020-10-14T09:32:34.926766Z",
     "iopub.status.busy": "2020-10-14T09:32:34.925835Z",
     "iopub.status.idle": "2020-10-14T09:32:34.930864Z",
     "shell.execute_reply": "2020-10-14T09:32:34.930128Z"
    },
    "papermill": {
     "duration": 0.101244,
     "end_time": "2020-10-14T09:32:34.930993",
     "exception": false,
     "start_time": "2020-10-14T09:32:34.829749",
     "status": "completed"
    },
    "tags": []
   },
   "outputs": [
    {
     "ename": "NameError",
     "evalue": "name 'X_test_d' is not defined",
     "output_type": "error",
     "traceback": [
      "\u001b[0;31m---------------------------------------------------------------------------\u001b[0m",
      "\u001b[0;31mNameError\u001b[0m                                 Traceback (most recent call last)",
      "\u001b[0;32m<ipython-input-41-906a378ecf17>\u001b[0m in \u001b[0;36m<module>\u001b[0;34m\u001b[0m\n\u001b[0;32m----> 1\u001b[0;31m \u001b[0mX_test_d\u001b[0m\u001b[0;34m.\u001b[0m\u001b[0misnull\u001b[0m\u001b[0;34m(\u001b[0m\u001b[0;34m)\u001b[0m\u001b[0;34m.\u001b[0m\u001b[0many\u001b[0m\u001b[0;34m(\u001b[0m\u001b[0;34m)\u001b[0m\u001b[0;34m\u001b[0m\u001b[0;34m\u001b[0m\u001b[0m\n\u001b[0m",
      "\u001b[0;31mNameError\u001b[0m: name 'X_test_d' is not defined"
     ]
    }
   ],
   "source": [
    "X_test_d.isnull().any()"
   ]
  },
  {
   "cell_type": "code",
   "execution_count": 42,
   "metadata": {
    "execution": {
     "iopub.execute_input": "2020-10-14T09:32:35.112286Z",
     "iopub.status.busy": "2020-10-14T09:32:35.111274Z",
     "iopub.status.idle": "2020-10-14T09:32:35.116217Z",
     "shell.execute_reply": "2020-10-14T09:32:35.115604Z"
    },
    "papermill": {
     "duration": 0.10342,
     "end_time": "2020-10-14T09:32:35.116338",
     "exception": false,
     "start_time": "2020-10-14T09:32:35.012918",
     "status": "completed"
    },
    "tags": []
   },
   "outputs": [
    {
     "ename": "NameError",
     "evalue": "name 'X_train_d' is not defined",
     "output_type": "error",
     "traceback": [
      "\u001b[0;31m---------------------------------------------------------------------------\u001b[0m",
      "\u001b[0;31mNameError\u001b[0m                                 Traceback (most recent call last)",
      "\u001b[0;32m<ipython-input-42-cf617a38f943>\u001b[0m in \u001b[0;36m<module>\u001b[0;34m\u001b[0m\n\u001b[1;32m      1\u001b[0m \u001b[0mmodel\u001b[0m \u001b[0;34m=\u001b[0m \u001b[0mLinearRegression\u001b[0m\u001b[0;34m(\u001b[0m\u001b[0;34m)\u001b[0m\u001b[0;34m\u001b[0m\u001b[0;34m\u001b[0m\u001b[0m\n\u001b[0;32m----> 2\u001b[0;31m \u001b[0mmodel\u001b[0m\u001b[0;34m.\u001b[0m\u001b[0mfit\u001b[0m\u001b[0;34m(\u001b[0m\u001b[0mX_train_d\u001b[0m\u001b[0;34m,\u001b[0m \u001b[0my_train_d\u001b[0m\u001b[0;34m)\u001b[0m\u001b[0;34m\u001b[0m\u001b[0;34m\u001b[0m\u001b[0m\n\u001b[0m\u001b[1;32m      3\u001b[0m \u001b[0;34m\u001b[0m\u001b[0m\n\u001b[1;32m      4\u001b[0m \u001b[0maccuracy\u001b[0m \u001b[0;34m=\u001b[0m \u001b[0mcross_val_score\u001b[0m\u001b[0;34m(\u001b[0m\u001b[0mmodel\u001b[0m\u001b[0;34m,\u001b[0m \u001b[0mX_train_d\u001b[0m\u001b[0;34m,\u001b[0m \u001b[0my_train_d\u001b[0m\u001b[0;34m,\u001b[0m \u001b[0mcv\u001b[0m\u001b[0;34m=\u001b[0m\u001b[0;36m30\u001b[0m\u001b[0;34m)\u001b[0m\u001b[0;34m\u001b[0m\u001b[0;34m\u001b[0m\u001b[0m\n\u001b[1;32m      5\u001b[0m \u001b[0mprint\u001b[0m\u001b[0;34m(\u001b[0m\u001b[0;34m'train_model_score = '\u001b[0m\u001b[0;34m,\u001b[0m \u001b[0maccuracy\u001b[0m\u001b[0;34m.\u001b[0m\u001b[0mmean\u001b[0m\u001b[0;34m(\u001b[0m\u001b[0;34m)\u001b[0m\u001b[0;34m)\u001b[0m\u001b[0;34m\u001b[0m\u001b[0;34m\u001b[0m\u001b[0m\n",
      "\u001b[0;31mNameError\u001b[0m: name 'X_train_d' is not defined"
     ]
    }
   ],
   "source": [
    "model = LinearRegression()\n",
    "model.fit(X_train_d, y_train_d)\n",
    "\n",
    "accuracy = cross_val_score(model, X_train_d, y_train_d, cv=30)\n",
    "print('train_model_score = ', accuracy.mean())"
   ]
  },
  {
   "cell_type": "code",
   "execution_count": 43,
   "metadata": {
    "execution": {
     "iopub.execute_input": "2020-10-14T09:32:35.300690Z",
     "iopub.status.busy": "2020-10-14T09:32:35.298540Z",
     "iopub.status.idle": "2020-10-14T09:32:35.306120Z",
     "shell.execute_reply": "2020-10-14T09:32:35.305491Z"
    },
    "papermill": {
     "duration": 0.105287,
     "end_time": "2020-10-14T09:32:35.306251",
     "exception": false,
     "start_time": "2020-10-14T09:32:35.200964",
     "status": "completed"
    },
    "tags": []
   },
   "outputs": [
    {
     "ename": "NameError",
     "evalue": "name 'X_test_d' is not defined",
     "output_type": "error",
     "traceback": [
      "\u001b[0;31m---------------------------------------------------------------------------\u001b[0m",
      "\u001b[0;31mNameError\u001b[0m                                 Traceback (most recent call last)",
      "\u001b[0;32m<ipython-input-43-6ccb9e542f0b>\u001b[0m in \u001b[0;36m<module>\u001b[0;34m\u001b[0m\n\u001b[0;32m----> 1\u001b[0;31m \u001b[0my_predicted\u001b[0m \u001b[0;34m=\u001b[0m \u001b[0mmodel\u001b[0m\u001b[0;34m.\u001b[0m\u001b[0mpredict\u001b[0m\u001b[0;34m(\u001b[0m\u001b[0mX_test_d\u001b[0m\u001b[0;34m)\u001b[0m\u001b[0;34m\u001b[0m\u001b[0;34m\u001b[0m\u001b[0m\n\u001b[0m\u001b[1;32m      2\u001b[0m \u001b[0;34m\u001b[0m\u001b[0m\n\u001b[1;32m      3\u001b[0m \u001b[0maccuracy_test\u001b[0m \u001b[0;34m=\u001b[0m \u001b[0mcross_val_score\u001b[0m\u001b[0;34m(\u001b[0m\u001b[0mmodel\u001b[0m\u001b[0;34m,\u001b[0m \u001b[0mX_test_d\u001b[0m\u001b[0;34m,\u001b[0m \u001b[0my_test_d\u001b[0m\u001b[0;34m,\u001b[0m \u001b[0mcv\u001b[0m\u001b[0;34m=\u001b[0m\u001b[0;36m30\u001b[0m\u001b[0;34m)\u001b[0m\u001b[0;34m\u001b[0m\u001b[0;34m\u001b[0m\u001b[0m\n\u001b[1;32m      4\u001b[0m \u001b[0mprint\u001b[0m\u001b[0;34m(\u001b[0m\u001b[0;34m'test_model_score = '\u001b[0m\u001b[0;34m,\u001b[0m \u001b[0maccuracy_test\u001b[0m\u001b[0;34m.\u001b[0m\u001b[0mmean\u001b[0m\u001b[0;34m(\u001b[0m\u001b[0;34m)\u001b[0m\u001b[0;34m)\u001b[0m\u001b[0;34m\u001b[0m\u001b[0;34m\u001b[0m\u001b[0m\n",
      "\u001b[0;31mNameError\u001b[0m: name 'X_test_d' is not defined"
     ]
    }
   ],
   "source": [
    "y_predicted = model.predict(X_test_d)\n",
    "\n",
    "accuracy_test = cross_val_score(model, X_test_d, y_test_d, cv=30)\n",
    "print('test_model_score = ', accuracy_test.mean())"
   ]
  },
  {
   "cell_type": "code",
   "execution_count": 44,
   "metadata": {
    "execution": {
     "iopub.execute_input": "2020-10-14T09:32:35.488671Z",
     "iopub.status.busy": "2020-10-14T09:32:35.478478Z",
     "iopub.status.idle": "2020-10-14T09:32:35.492741Z",
     "shell.execute_reply": "2020-10-14T09:32:35.493302Z"
    },
    "papermill": {
     "duration": 0.103271,
     "end_time": "2020-10-14T09:32:35.493467",
     "exception": false,
     "start_time": "2020-10-14T09:32:35.390196",
     "status": "completed"
    },
    "tags": []
   },
   "outputs": [
    {
     "ename": "NameError",
     "evalue": "name 'X_test_d' is not defined",
     "output_type": "error",
     "traceback": [
      "\u001b[0;31m---------------------------------------------------------------------------\u001b[0m",
      "\u001b[0;31mNameError\u001b[0m                                 Traceback (most recent call last)",
      "\u001b[0;32m<ipython-input-44-906a378ecf17>\u001b[0m in \u001b[0;36m<module>\u001b[0;34m\u001b[0m\n\u001b[0;32m----> 1\u001b[0;31m \u001b[0mX_test_d\u001b[0m\u001b[0;34m.\u001b[0m\u001b[0misnull\u001b[0m\u001b[0;34m(\u001b[0m\u001b[0;34m)\u001b[0m\u001b[0;34m.\u001b[0m\u001b[0many\u001b[0m\u001b[0;34m(\u001b[0m\u001b[0;34m)\u001b[0m\u001b[0;34m\u001b[0m\u001b[0;34m\u001b[0m\u001b[0m\n\u001b[0m",
      "\u001b[0;31mNameError\u001b[0m: name 'X_test_d' is not defined"
     ]
    }
   ],
   "source": [
    "X_test_d.isnull().any()"
   ]
  },
  {
   "cell_type": "code",
   "execution_count": 45,
   "metadata": {
    "execution": {
     "iopub.execute_input": "2020-10-14T09:32:35.678309Z",
     "iopub.status.busy": "2020-10-14T09:32:35.677226Z",
     "iopub.status.idle": "2020-10-14T09:32:35.681792Z",
     "shell.execute_reply": "2020-10-14T09:32:35.681010Z"
    },
    "papermill": {
     "duration": 0.103415,
     "end_time": "2020-10-14T09:32:35.681920",
     "exception": false,
     "start_time": "2020-10-14T09:32:35.578505",
     "status": "completed"
    },
    "tags": []
   },
   "outputs": [
    {
     "ename": "NameError",
     "evalue": "name 'X_test_d' is not defined",
     "output_type": "error",
     "traceback": [
      "\u001b[0;31m---------------------------------------------------------------------------\u001b[0m",
      "\u001b[0;31mNameError\u001b[0m                                 Traceback (most recent call last)",
      "\u001b[0;32m<ipython-input-45-71ddccfdc36e>\u001b[0m in \u001b[0;36m<module>\u001b[0;34m\u001b[0m\n\u001b[0;32m----> 1\u001b[0;31m \u001b[0mX_test_d\u001b[0m\u001b[0;34m[\u001b[0m\u001b[0;34m'model_ M5'\u001b[0m\u001b[0;34m]\u001b[0m\u001b[0;34m\u001b[0m\u001b[0;34m\u001b[0m\u001b[0m\n\u001b[0m",
      "\u001b[0;31mNameError\u001b[0m: name 'X_test_d' is not defined"
     ]
    }
   ],
   "source": [
    "X_test_d['model_ M5']"
   ]
  },
  {
   "cell_type": "code",
   "execution_count": 46,
   "metadata": {
    "execution": {
     "iopub.execute_input": "2020-10-14T09:32:35.858185Z",
     "iopub.status.busy": "2020-10-14T09:32:35.857166Z",
     "iopub.status.idle": "2020-10-14T09:32:35.861986Z",
     "shell.execute_reply": "2020-10-14T09:32:35.861356Z"
    },
    "papermill": {
     "duration": 0.094817,
     "end_time": "2020-10-14T09:32:35.862143",
     "exception": false,
     "start_time": "2020-10-14T09:32:35.767326",
     "status": "completed"
    },
    "tags": []
   },
   "outputs": [
    {
     "data": {
      "text/plain": [
       "array([ 9928.49070385, 22471.40222368, 21682.43022034, ...,\n",
       "       21758.32197043, 20737.59340663, 14082.44711352])"
      ]
     },
     "execution_count": 46,
     "metadata": {},
     "output_type": "execute_result"
    }
   ],
   "source": [
    "y_predicted"
   ]
  },
  {
   "cell_type": "code",
   "execution_count": 47,
   "metadata": {
    "execution": {
     "iopub.execute_input": "2020-10-14T09:32:36.041288Z",
     "iopub.status.busy": "2020-10-14T09:32:36.040450Z",
     "iopub.status.idle": "2020-10-14T09:32:36.045317Z",
     "shell.execute_reply": "2020-10-14T09:32:36.044544Z"
    },
    "papermill": {
     "duration": 0.097516,
     "end_time": "2020-10-14T09:32:36.045440",
     "exception": false,
     "start_time": "2020-10-14T09:32:35.947924",
     "status": "completed"
    },
    "tags": []
   },
   "outputs": [
    {
     "data": {
      "text/plain": [
       "0        9928.490704\n",
       "1       22471.402224\n",
       "2       21682.430220\n",
       "3       25406.902345\n",
       "4       -4840.961220\n",
       "            ...     \n",
       "3169    17443.434230\n",
       "3170    34081.574241\n",
       "3171    21758.321970\n",
       "3172    20737.593407\n",
       "3173    14082.447114\n",
       "Name: price_predict, Length: 3174, dtype: float64"
      ]
     },
     "execution_count": 47,
     "metadata": {},
     "output_type": "execute_result"
    }
   ],
   "source": [
    "pd.Series(y_predicted, name='price_predict')"
   ]
  },
  {
   "cell_type": "code",
   "execution_count": 48,
   "metadata": {
    "execution": {
     "iopub.execute_input": "2020-10-14T09:32:36.236249Z",
     "iopub.status.busy": "2020-10-14T09:32:36.235235Z",
     "iopub.status.idle": "2020-10-14T09:32:36.240666Z",
     "shell.execute_reply": "2020-10-14T09:32:36.239894Z"
    },
    "papermill": {
     "duration": 0.109276,
     "end_time": "2020-10-14T09:32:36.240798",
     "exception": false,
     "start_time": "2020-10-14T09:32:36.131522",
     "status": "completed"
    },
    "tags": []
   },
   "outputs": [
    {
     "ename": "NameError",
     "evalue": "name 'y_test_d' is not defined",
     "output_type": "error",
     "traceback": [
      "\u001b[0;31m---------------------------------------------------------------------------\u001b[0m",
      "\u001b[0;31mNameError\u001b[0m                                 Traceback (most recent call last)",
      "\u001b[0;32m<ipython-input-48-0144016e165d>\u001b[0m in \u001b[0;36m<module>\u001b[0;34m\u001b[0m\n\u001b[0;32m----> 1\u001b[0;31m \u001b[0md_test\u001b[0m \u001b[0;34m=\u001b[0m \u001b[0mpd\u001b[0m\u001b[0;34m.\u001b[0m\u001b[0mconcat\u001b[0m\u001b[0;34m(\u001b[0m\u001b[0;34m[\u001b[0m\u001b[0my_test_d\u001b[0m\u001b[0;34m.\u001b[0m\u001b[0mreset_index\u001b[0m\u001b[0;34m(\u001b[0m\u001b[0mdrop\u001b[0m\u001b[0;34m=\u001b[0m\u001b[0;32mTrue\u001b[0m\u001b[0;34m)\u001b[0m\u001b[0;34m,\u001b[0m\u001b[0mpd\u001b[0m\u001b[0;34m.\u001b[0m\u001b[0mSeries\u001b[0m\u001b[0;34m(\u001b[0m\u001b[0my_predicted\u001b[0m\u001b[0;34m,\u001b[0m \u001b[0mname\u001b[0m\u001b[0;34m=\u001b[0m\u001b[0;34m'price_predict'\u001b[0m\u001b[0;34m)\u001b[0m\u001b[0;34m]\u001b[0m\u001b[0;34m,\u001b[0m \u001b[0maxis\u001b[0m\u001b[0;34m=\u001b[0m\u001b[0;34m'columns'\u001b[0m \u001b[0;34m)\u001b[0m\u001b[0;34m\u001b[0m\u001b[0;34m\u001b[0m\u001b[0m\n\u001b[0m\u001b[1;32m      2\u001b[0m \u001b[0md_test\u001b[0m\u001b[0;34m\u001b[0m\u001b[0;34m\u001b[0m\u001b[0m\n",
      "\u001b[0;31mNameError\u001b[0m: name 'y_test_d' is not defined"
     ]
    }
   ],
   "source": [
    "d_test = pd.concat([y_test_d.reset_index(drop=True),pd.Series(y_predicted, name='price_predict')], axis='columns' )\n",
    "d_test"
   ]
  },
  {
   "cell_type": "code",
   "execution_count": 49,
   "metadata": {
    "execution": {
     "iopub.execute_input": "2020-10-14T09:32:36.431767Z",
     "iopub.status.busy": "2020-10-14T09:32:36.430791Z",
     "iopub.status.idle": "2020-10-14T09:32:36.435484Z",
     "shell.execute_reply": "2020-10-14T09:32:36.434751Z"
    },
    "papermill": {
     "duration": 0.106541,
     "end_time": "2020-10-14T09:32:36.435627",
     "exception": false,
     "start_time": "2020-10-14T09:32:36.329086",
     "status": "completed"
    },
    "tags": []
   },
   "outputs": [
    {
     "ename": "TypeError",
     "evalue": "'DataFrame' object is not callable",
     "output_type": "error",
     "traceback": [
      "\u001b[0;31m---------------------------------------------------------------------------\u001b[0m",
      "\u001b[0;31mTypeError\u001b[0m                                 Traceback (most recent call last)",
      "\u001b[0;32m<ipython-input-49-367364c6221b>\u001b[0m in \u001b[0;36m<module>\u001b[0;34m\u001b[0m\n\u001b[0;32m----> 1\u001b[0;31m \u001b[0mcorrr\u001b[0m \u001b[0;34m=\u001b[0m \u001b[0mcorr\u001b[0m\u001b[0;34m(\u001b[0m\u001b[0md_test\u001b[0m\u001b[0;34m.\u001b[0m\u001b[0mprice\u001b[0m\u001b[0;34m,\u001b[0m \u001b[0md_test\u001b[0m\u001b[0;34m.\u001b[0m\u001b[0mprice_predict\u001b[0m\u001b[0;34m)\u001b[0m\u001b[0;34m\u001b[0m\u001b[0;34m\u001b[0m\u001b[0m\n\u001b[0m",
      "\u001b[0;31mTypeError\u001b[0m: 'DataFrame' object is not callable"
     ]
    }
   ],
   "source": [
    "corrr = corr(d_test.price, d_test.price_predict)"
   ]
  },
  {
   "cell_type": "code",
   "execution_count": 50,
   "metadata": {
    "execution": {
     "iopub.execute_input": "2020-10-14T09:32:36.617062Z",
     "iopub.status.busy": "2020-10-14T09:32:36.615932Z",
     "iopub.status.idle": "2020-10-14T09:32:36.618721Z",
     "shell.execute_reply": "2020-10-14T09:32:36.619299Z"
    },
    "papermill": {
     "duration": 0.095617,
     "end_time": "2020-10-14T09:32:36.619460",
     "exception": false,
     "start_time": "2020-10-14T09:32:36.523843",
     "status": "completed"
    },
    "tags": []
   },
   "outputs": [],
   "source": [
    "#fig, ax = plt.subplots(figsize=(16,10))\n",
    "#ax.plot(df_dummies['price'], '--')\n",
    "#ax.set_xlabel('--')\n",
    "#ax.set_ylabel('price')"
   ]
  },
  {
   "cell_type": "code",
   "execution_count": 51,
   "metadata": {
    "execution": {
     "iopub.execute_input": "2020-10-14T09:32:36.808332Z",
     "iopub.status.busy": "2020-10-14T09:32:36.807246Z",
     "iopub.status.idle": "2020-10-14T09:32:36.810825Z",
     "shell.execute_reply": "2020-10-14T09:32:36.810080Z"
    },
    "papermill": {
     "duration": 0.099979,
     "end_time": "2020-10-14T09:32:36.810948",
     "exception": false,
     "start_time": "2020-10-14T09:32:36.710969",
     "status": "completed"
    },
    "tags": []
   },
   "outputs": [],
   "source": [
    "#from pandas_profiling import ProfileReport\n",
    "#profile = ProfileReport(df, title=\"BMW Used Car Profiling Report\")"
   ]
  },
  {
   "cell_type": "code",
   "execution_count": 52,
   "metadata": {
    "execution": {
     "iopub.execute_input": "2020-10-14T09:32:36.991892Z",
     "iopub.status.busy": "2020-10-14T09:32:36.991098Z",
     "iopub.status.idle": "2020-10-14T09:32:36.994004Z",
     "shell.execute_reply": "2020-10-14T09:32:36.993408Z"
    },
    "papermill": {
     "duration": 0.09474,
     "end_time": "2020-10-14T09:32:36.994130",
     "exception": false,
     "start_time": "2020-10-14T09:32:36.899390",
     "status": "completed"
    },
    "tags": []
   },
   "outputs": [],
   "source": [
    "#df.profile_report()"
   ]
  },
  {
   "cell_type": "code",
   "execution_count": 53,
   "metadata": {
    "execution": {
     "iopub.execute_input": "2020-10-14T09:32:37.175389Z",
     "iopub.status.busy": "2020-10-14T09:32:37.174640Z",
     "iopub.status.idle": "2020-10-14T09:32:37.177427Z",
     "shell.execute_reply": "2020-10-14T09:32:37.178047Z"
    },
    "papermill": {
     "duration": 0.096096,
     "end_time": "2020-10-14T09:32:37.178205",
     "exception": false,
     "start_time": "2020-10-14T09:32:37.082109",
     "status": "completed"
    },
    "tags": []
   },
   "outputs": [],
   "source": [
    "#profile.to_widgets()"
   ]
  },
  {
   "cell_type": "code",
   "execution_count": 54,
   "metadata": {
    "execution": {
     "iopub.execute_input": "2020-10-14T09:32:37.363055Z",
     "iopub.status.busy": "2020-10-14T09:32:37.362170Z",
     "iopub.status.idle": "2020-10-14T09:32:37.365119Z",
     "shell.execute_reply": "2020-10-14T09:32:37.365699Z"
    },
    "papermill": {
     "duration": 0.098515,
     "end_time": "2020-10-14T09:32:37.365854",
     "exception": false,
     "start_time": "2020-10-14T09:32:37.267339",
     "status": "completed"
    },
    "tags": []
   },
   "outputs": [],
   "source": [
    "#profile.to_notebook_iframe()"
   ]
  },
  {
   "cell_type": "code",
   "execution_count": 55,
   "metadata": {
    "execution": {
     "iopub.execute_input": "2020-10-14T09:32:37.548280Z",
     "iopub.status.busy": "2020-10-14T09:32:37.547298Z",
     "iopub.status.idle": "2020-10-14T09:32:37.550459Z",
     "shell.execute_reply": "2020-10-14T09:32:37.549734Z"
    },
    "papermill": {
     "duration": 0.096331,
     "end_time": "2020-10-14T09:32:37.550597",
     "exception": false,
     "start_time": "2020-10-14T09:32:37.454266",
     "status": "completed"
    },
    "tags": []
   },
   "outputs": [],
   "source": [
    "#df.loc[df.fuelType=='Hybrid'].shape"
   ]
  },
  {
   "cell_type": "code",
   "execution_count": null,
   "metadata": {
    "papermill": {
     "duration": 0.088548,
     "end_time": "2020-10-14T09:32:37.727978",
     "exception": false,
     "start_time": "2020-10-14T09:32:37.639430",
     "status": "completed"
    },
    "tags": []
   },
   "outputs": [],
   "source": []
  }
 ],
 "metadata": {
  "kernelspec": {
   "display_name": "Python 3",
   "language": "python",
   "name": "python3"
  },
  "language_info": {
   "codemirror_mode": {
    "name": "ipython",
    "version": 3
   },
   "file_extension": ".py",
   "mimetype": "text/x-python",
   "name": "python",
   "nbconvert_exporter": "python",
   "pygments_lexer": "ipython3",
   "version": "3.7.6"
  },
  "papermill": {
   "duration": 22.773571,
   "end_time": "2020-10-14T09:32:37.926002",
   "environment_variables": {},
   "exception": null,
   "input_path": "__notebook__.ipynb",
   "output_path": "__notebook__.ipynb",
   "parameters": {},
   "start_time": "2020-10-14T09:32:15.152431",
   "version": "2.1.0"
  }
 },
 "nbformat": 4,
 "nbformat_minor": 4
}
